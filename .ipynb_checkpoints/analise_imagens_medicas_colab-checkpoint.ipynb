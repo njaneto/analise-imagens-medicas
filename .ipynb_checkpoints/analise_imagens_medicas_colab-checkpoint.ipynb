{
 "cells": [
  {
   "cell_type": "markdown",
   "metadata": {},
   "source": [
    "# MBA FIAP Inteligência Artificial & Machine Learning\n",
    "\n",
    "## Visão Computacional: Análise de Imagens Médicas\n",
    "\n",
    "> Atenção: este notebook foi desenhado para funcionar no **Google Collab**. Se pretende executar localmente prefira a versão local deste notebook, sem o sufixo ```-collab```.\n",
    "\n",
    "\n",
    "## 1. Introdução\n",
    "\n",
    "As tecnologias de imagens médicas estão cada vez mais integradas aos sitemas de visão computacional, incluindo as imagens de raio-x.\n",
    "\n",
    "Modelos de equipamentos modernos geram imagens digitais deste tipo de exame, proporcionando análises mais completas e menos _ad-hoc_, com isso algumas pré-análises podem ser realizadas por aplicações baseadas em inteligência artificial para confirmar ou sugerir diagnósticos ao profissional responsável pelo exame.\n",
    "\n",
    "No campo dos diagósticos por raios-x, a pnenumonia é uma das enfermidades onde seu uso é um dos mais aplicados para determinar o curso de tratamento.\n",
    "\n",
    "<p align=\"center\">\n",
    "    <img src=\"./imagens/NORMAL2-IM-1422-0001.jpeg\">\n",
    "</p>\n",
    "\n",
    "## 2. Instruções\n",
    "\n",
    "Este projeto final tem como objetivo explorar os conhecimentos adquiridos nas aulas práticas.\n",
    "\n",
    "Por meio de uma trilha guiada, iremos constuir um modelo que seja capaz de classificar imagens de raio-x para determinar se a determinada pessoa está com alguma condição que necessita maiores cuidados.\n",
    "\n",
    "De acordo com as imagens disponíveis para o treinamento e validação, será de critério do grupo selecionar as quantidades ideais ou até mesmo pré-processar as imagens para obter o melhor resultado, nos principais indicadores de performance, como precisão, sensibilidade e pontuação F1.\n",
    "\n",
    "Este projeto poderá ser feita por grupos de até 4 pessoas.\n",
    "Caso este projeto seja substitutivo, deverá ser realizado por apenas uma pessoa.\n",
    "\n",
    "| Nome dos Integrantes     | RM            | Turma |\n",
    "| :----------------------- | :------------- | :-----: |\n",
    "| DAVIDSON DE OLIVEIRA MIZAEL| RM 341759      | `21IA` |\n",
    "| EDUARDO RENAN DO NASCIMENTO BRITO | RM  341490     | `21IA` |\n",
    "| NILO JOSÉ DE ANDRADE NETO | RM 341778      | `21IA` |\n",
    "\n",
    "Por ser um projeto guiado, fique atento quando houver as marcações **Implementação** indica que é necessário realizar alguma implementação em Python no bloco a seguir onde há a inscrição ```##IMPLEMENTAR``` e **Resposta** indica que é esperado uma resposta objetiva relacionado a algum questionamento. \n",
    "\n",
    "**Cada grupo pode utilizar nas respostas objetivas quaisquer itens necessários que enriqueçam seu ponto vista, como gráficos, fotos e, até mesmo, trechos de código-fonte.**\n",
    "\n",
    "Pode-se utilizar quantos blocos forem necessários para realizar determinadas implementações ou utilizá-las para justificar as respostas. Não é obrigatório utilizar somente o bloco indicado.\n",
    "\n",
    "Ao final não se esqueça de subir os arquivos do projeto nas contas do GitHub de cada membro, ou subir na do representante do grupo e os membros realizarem o fork do projeto.\n",
    "\n",
    "A avaliação terá mais ênfase nos seguintes tópicos de desenvolvimento do projeto:\n",
    " \n",
    "1. __Pré-Processamento__\n",
    "2. __Classificação__\n",
    "3. __Performance__\n",
    "4. __Conclusões Finais__"
   ]
  },
  {
   "cell_type": "markdown",
   "metadata": {
    "id": "JuZN6Kw3Ax9P"
   },
   "source": [
    "## 3.1 Detalhe do problema: a pneunomia\n",
    "\n",
    "Fonte: [artigo](https://drauziovarella.uol.com.br/doencas-e-sintomas/pneumonia) do Dr. Drauzio Varella.\n",
    "\n",
    "Pneumonias são infecções que se instalam nos pulmões, órgãos duplos localizados um de cada lado da caixa torácica. Podem acometer a região dos alvéolos pulmonares onde desembocam as ramificações terminais dos brônquios e, às vezes, os interstícios (espaço entre um alvéolo e outro).\n",
    "\n",
    "Basicamente, pneumonia é provocada pela penetração de um agente infeccioso ou irritante (bactérias, vírus, fungos e por reações alérgicas) no espaço alveolar, onde ocorre a troca gasosa. Esse local deve estar sempre muito limpo, livre de substâncias que possam impedir o contato do ar com o sangue.\n",
    "\n",
    "Exame clínico, auscultação dos pulmões e radiografias de tórax são recursos essenciais para o diagnóstico de pneumonia.\n",
    "\n",
    "<p align=\"center\">\n",
    "    <img src=\"./imagens/pneumonia.jpeg\">\n",
    "</p>"
   ]
  },
  {
   "cell_type": "markdown",
   "metadata": {
    "id": "IY71MFE-Ax9S"
   },
   "source": [
    "## 3.2 Diagnóstico por raio-x"
   ]
  },
  {
   "cell_type": "markdown",
   "metadata": {
    "id": "tA9NkeubAx9S"
   },
   "source": [
    "O exame de raio-x traz diferenças em cada tipo de diagnóstico, sendo considerado os seguintes grupos de análise: **normal** (ou controle) onde não há nenhuma condição de infeção, **bacterial pneumonia** (pneumonia bacteriana) que representa a condição de infecção bacteriana e **viral pneumonia** que indica a condição de infecção vira. "
   ]
  },
  {
   "cell_type": "markdown",
   "metadata": {
    "id": "DSIL7aI_Ax9T"
   },
   "source": [
    "<p align=\"center\">\n",
    "<img src=\"./imagens/raiox.png\" height=\"60%\" width=\"60%\">\n",
    "</p>"
   ]
  },
  {
   "cell_type": "markdown",
   "metadata": {
    "id": "gtrFUPh4Ax9U"
   },
   "source": [
    "As imagens de controle não são mais brancas ao centro que é onde fica o coração. Já nas imagens com pneumonia é possível notar regiões brancas ao redor dos pulmões, que é como o exame identifica as secreções responsáveis pela infeçcão.\n",
    "\n",
    "Quando mais regiões brancas ao redor do pulmão mais severa é a inflamação e menos se observa dos detalhes dos pulmões, ficando um pouco esmaecido diante desta condição."
   ]
  },
  {
   "cell_type": "markdown",
   "metadata": {
    "id": "8bJVqSb1Ax9V"
   },
   "source": [
    "## 4.1 Problema\n",
    "\n",
    "Construir um classificador utilizando _transfer learning_ para identificar as seguintes classes: **controle**, **pneumonia bacteriana** e **pneumonia viral**.\n",
    "\n",
    "Para construir este classificador, utilize o dataset do [Kaggle Chest Ray Pneumonia](https://www.kaggle.com/paultimothymooney/chest-xray-pneumonia) e organize os dados de forma a separar em cada uma das classes que já estão definidas no diretório ```raiox```, sendo ```controle``` para as imagens normais (sem inflamação), ```bacteria``` para as imagens de pneumonia bacteriana e ```viral``` para as imagens de pneumonia viral.\n",
    "\n",
    "Determine a quantidade de imagens a serem treinadas e validadas. Utiliza pelo menos, 100 imagens para cada classe.\n",
    "\n",
    "Compare os resultados com pelo menos 3 classificadores, obtendo os valores de **precisão (precision)**, **sensibilidade (recall)** e **pontuação F1 (F1 Score)**. No guia abaixo, foi indicado os seguintes modelos: ResNet50, VGG16 e VGG19. \n",
    "\n",
    ">Importante: a escolha do número de imagens devem ser o suficiente para alcançar o valor de **precisão** mínima de 70%.\n",
    "Note que as imagens de pneumonia bacteria e viral estão misturadas dentro da pasta ```PNEUMONIA```. É necessário separar as imagens manualmente tendo como base o sufixo. As imagens que terminal com ```_virus``` se referem a pneumoria viral e as que terminam com ```_bacteria``` se referem a pneumonia bacteriana.\n",
    "\n",
    "A construção do modelo será utilizada o framework Keras."
   ]
  },
  {
   "cell_type": "markdown",
   "metadata": {
    "id": "d9oWsNSKAx9X"
   },
   "source": [
    "**Pergunta**: Qual o número de imagens que foram selecionadas para cada classe?"
   ]
  },
  {
   "cell_type": "markdown",
   "metadata": {
    "id": "vszfhjVJAx9Y"
   },
   "source": [
    "**Resposta**: 1000"
   ]
  },
  {
   "cell_type": "markdown",
   "metadata": {
    "id": "PXgjxjjdAx9Y"
   },
   "source": [
    "## 4.2 Componentes obrigatórios\n",
    "\n",
    "Todas as bibliotecas já estão instaladas no Google Colab.\n",
    "\n",
    "* Keras\n",
    "* Tensorflow\n",
    "* Pillow\n",
    "* Matplotlib"
   ]
  },
  {
   "cell_type": "code",
   "execution_count": 1,
   "metadata": {
    "id": "n2hLUTiZAx9Z"
   },
   "outputs": [],
   "source": [
    "import os\n",
    "\n",
    "import numpy as np\n",
    "import matplotlib.pyplot as plt\n",
    "from PIL import Image\n",
    "\n",
    "%matplotlib inline\n",
    "\n",
    "from tensorflow.keras.models import Sequential, load_model, model_from_json\n",
    "from tensorflow.keras.layers import Dense, Conv2D, Dropout, Flatten, MaxPooling2D, Activation\n",
    "from tensorflow.keras.preprocessing.image import ImageDataGenerator\n",
    "from tensorflow.keras.applications import VGG16, ResNet50, VGG19\n",
    "from tensorflow.keras.applications.vgg16 import preprocess_input\n",
    "from tensorflow.keras import Model, layers\n",
    "from tensorflow.keras import optimizers\n",
    "\n",
    "import tensorflow.keras.backend as K"
   ]
  },
  {
   "cell_type": "markdown",
   "metadata": {
    "id": "wWQDzbsfAx9b"
   },
   "source": [
    "## 4.3 Carregando imagens de treinamento e validação\n",
    "\n",
    "Selecione a melhor divisão entre dados de treinamento e validação. O número deverá ser representado em número fracionário, 5% equivale a 0.05, por exemplo."
   ]
  },
  {
   "cell_type": "markdown",
   "metadata": {
    "id": "YIxJPhLeAx9c"
   },
   "source": [
    "> Você pode _montar_ o drive do Google Drive se precisar e quiser armazenar as imagens nesta plataforma. Como o Colab é efêmero, se você copiar os arquivos para o ambiente eles serão apagados depois do fim da sessão. Acesse [esta](https://medium.com/@maxwellcsm/colaboratory-acessando-os-arquivos-do-google-drive-d08ef9157dbf) referência para saber mais como o recurso funciona, inclusive recomenda-se essa abordagem de montar o próprio Google Drive.\n",
    "\n",
    "Se não for utilizar o Google Drive, crie as pastas que serão utilizadas para armazenar as imagens."
   ]
  },
  {
   "cell_type": "markdown",
   "metadata": {
    "id": "az5UkKnsAx9h"
   },
   "source": [
    "### 4.3.1 Utilizando Google Drive\n",
    "\n",
    "Se usar o Google Drive para armazenar as imagens utilize o comando abaixo para montar seu drive.\n",
    "Você pode navegar pelas pastas pelo painel ao lado."
   ]
  },
  {
   "cell_type": "code",
   "execution_count": 2,
   "metadata": {
    "colab": {
     "base_uri": "https://localhost:8080/"
    },
    "id": "eRwq8bgJAx9i",
    "outputId": "7f0113cc-dcd2-4fd5-f9af-d0af97eb8c94"
   },
   "outputs": [
    {
     "name": "stdout",
     "output_type": "stream",
     "text": [
      "Mounted at /content/drive\n"
     ]
    }
   ],
   "source": [
    "from google.colab import drive\n",
    "drive.mount('/content/drive', force_remount=True)"
   ]
  },
  {
   "cell_type": "code",
   "execution_count": 3,
   "metadata": {
    "colab": {
     "base_uri": "https://localhost:8080/"
    },
    "id": "F4jd77v-7V6T",
    "outputId": "87ce1470-8a99-4a9a-810a-9b819cdb368d"
   },
   "outputs": [
    {
     "name": "stdout",
     "output_type": "stream",
     "text": [
      "/content/drive/MyDrive/Notebooks/projeto-final\n"
     ]
    }
   ],
   "source": [
    "%cd /content/drive/MyDrive/Notebooks/projeto-final"
   ]
  },
  {
   "cell_type": "markdown",
   "metadata": {
    "id": "4VOEnGVxAx9j"
   },
   "source": [
    "### 4.3.2 Utilizando o armazenamento efêmero\n",
    "\n",
    "Se optar pelo armazenamento efêmero você precisa enviar os arquivos de imagens (arrastar e soltar) para as pastas que deverão ser criadas pelo comando a seguir."
   ]
  },
  {
   "cell_type": "code",
   "execution_count": 4,
   "metadata": {
    "id": "LkUSCs9TAx9j"
   },
   "outputs": [],
   "source": [
    "!mkdir raiox/\n",
    "!mkdir raiox/normal\n",
    "!mkdir raiox/pneumonia_bacteriana\n",
    "!mkdir raiox/pneumonia_viral"
   ]
  },
  {
   "cell_type": "markdown",
   "metadata": {
    "id": "eY5oRxi-Ax9k"
   },
   "source": [
    "Defina o nome da pasta onde contém as sub-pastas referente aos 3 tipos de classe. Se optar pelo armazenamento efêmero a pasta será ```raiox```. Se optar pelo Goolge Drive, indique o caminho da pasta."
   ]
  },
  {
   "cell_type": "code",
   "execution_count": 5,
   "metadata": {
    "id": "x9WWQPYkAx9k"
   },
   "outputs": [],
   "source": [
    "## IMPLEMENTE\n",
    "divisao_treino_validacao = 0.3\n",
    "nome_pasta_raiz_imagens = \"./raiox/\""
   ]
  },
  {
   "cell_type": "markdown",
   "metadata": {
    "id": "2D89FtSmAx9l"
   },
   "source": [
    "O caminho abaixo da pasta ```raiox``` pode ser alterado caso você opte por utilizar uma pasta específica do seu Google Drive. Neste caso, certifique que dentro delas tem as sub-pastas referentes as imagens normal, pneumonia bacteriana e viral."
   ]
  },
  {
   "cell_type": "code",
   "execution_count": 6,
   "metadata": {
    "colab": {
     "base_uri": "https://localhost:8080/"
    },
    "id": "qKwkIF6HAx9l",
    "outputId": "b435ac04-d100-4bba-f76e-18dc11ea4065"
   },
   "outputs": [
    {
     "name": "stdout",
     "output_type": "stream",
     "text": [
      "Found 2100 images belonging to 3 classes.\n"
     ]
    }
   ],
   "source": [
    "train_datagen = ImageDataGenerator(validation_split=divisao_treino_validacao)\n",
    "\n",
    "train_generator = train_datagen.flow_from_directory(\n",
    "    nome_pasta_raiz_imagens,\n",
    "    batch_size=32,\n",
    "    class_mode=\"categorical\",\n",
    "    color_mode=\"rgb\",\n",
    "    target_size=(224,224),\n",
    "    subset=\"training\")"
   ]
  },
  {
   "cell_type": "code",
   "execution_count": 7,
   "metadata": {
    "colab": {
     "base_uri": "https://localhost:8080/"
    },
    "id": "kClL15uUAx9m",
    "outputId": "e274fe9d-12a1-4ea6-8364-d6c226d9ff64"
   },
   "outputs": [
    {
     "name": "stdout",
     "output_type": "stream",
     "text": [
      "Found 900 images belonging to 3 classes.\n"
     ]
    }
   ],
   "source": [
    "val_generator = train_datagen.flow_from_directory(\n",
    "    nome_pasta_raiz_imagens,\n",
    "    batch_size=32,\n",
    "    class_mode=\"categorical\",\n",
    "    color_mode=\"rgb\",\n",
    "    target_size=(224,224),\n",
    "    subset=\"validation\")"
   ]
  },
  {
   "cell_type": "code",
   "execution_count": 8,
   "metadata": {
    "colab": {
     "base_uri": "https://localhost:8080/"
    },
    "id": "-x0rbK9cAx9m",
    "outputId": "e9fe2c86-3043-44ec-b5d5-c26824c85459"
   },
   "outputs": [
    {
     "data": {
      "text/plain": [
       "({'normal': 0, 'pneumonia_bacteriana': 1, 'pneumonia_viral': 2},\n",
       " {'normal': 0, 'pneumonia_bacteriana': 1, 'pneumonia_viral': 2})"
      ]
     },
     "execution_count": 8,
     "metadata": {},
     "output_type": "execute_result"
    }
   ],
   "source": [
    "train_generator.class_indices, val_generator.class_indices"
   ]
  },
  {
   "cell_type": "markdown",
   "metadata": {
    "id": "DL9xj9HAAx9n"
   },
   "source": [
    "## 4.4 Modelos de transfer learning\n",
    "\n",
    "O Keras já possui classes especializadas para os seguintes modelos de deep-learning treinados com o conjunto de dados [ImageNet](http://www.image-net.org/):\n",
    "  \n",
    "* Xception\n",
    "* VGG16\n",
    "* VGG19\n",
    "* ResNet50\n",
    "* InceptionV3\n",
    "* InceptionResNetV2\n",
    "* MobileNet\n",
    "* DenseNet\n",
    "* NASNet\n",
    "* MobileNetV2\n",
    "\n",
    "Mais detalhes, veja na [documentação do Keras](https://keras.io/applications/)."
   ]
  },
  {
   "cell_type": "markdown",
   "metadata": {
    "id": "j05bG8LAAx9o"
   },
   "source": [
    "Para este estudo, vamos utilizar para avaliação as seguintes arquiteturas: RestNet50, VGG15 e VGG19."
   ]
  },
  {
   "cell_type": "markdown",
   "metadata": {
    "id": "cLib-CGRAx9o"
   },
   "source": [
    "## 4.5 Indicadores de desempenho\n",
    "\n",
    "O Keras não possui os indicadores de desempenho como precisão, sensibilidade e pontuação f1 por padrão, portanto precisamos implementar externamente."
   ]
  },
  {
   "cell_type": "code",
   "execution_count": 9,
   "metadata": {
    "id": "V4gCngHIAx9p"
   },
   "outputs": [],
   "source": [
    "def recall_score(y_true, y_pred):\n",
    "    true_positives = K.sum(K.round(K.clip(y_true * y_pred, 0, 1)))\n",
    "    possible_positives = K.sum(K.round(K.clip(y_true, 0, 1)))\n",
    "    recall = true_positives / (possible_positives + K.epsilon())\n",
    "    return recall\n",
    "\n",
    "def precision_score(y_true, y_pred):\n",
    "    true_positives = K.sum(K.round(K.clip(y_true * y_pred, 0, 1)))\n",
    "    predicted_positives = K.sum(K.round(K.clip(y_pred, 0, 1)))\n",
    "    precision = true_positives / (predicted_positives + K.epsilon())\n",
    "    return precision\n",
    "\n",
    "def f1_score(y_true, y_pred):\n",
    "    precision = precision_score(y_true, y_pred)\n",
    "    recall = recall_score(y_true, y_pred)\n",
    "    return 2*((precision*recall)/(precision+recall+K.epsilon()))"
   ]
  },
  {
   "cell_type": "markdown",
   "metadata": {
    "id": "bdOilAtoAx9p"
   },
   "source": [
    "### 4.5.1 Arquitetura ResNet50"
   ]
  },
  {
   "cell_type": "markdown",
   "metadata": {
    "id": "fxmKybAXAx9q"
   },
   "source": [
    "**Pergunta**: Explique como é constituída a arquitetura do ResNet50? *Utilize, se necessário, gráficos, projetos que utilizam essa arquitetura. Detalhe também sua topologia em camadas e mostre quais as situações essa arquitetura pode ter mais êxito e quais cenários não tem.*"
   ]
  },
  {
   "cell_type": "markdown",
   "metadata": {
    "id": "acCP6g9NAx9q"
   },
   "source": [
    "**Resposta**: ResNet50 ..."
   ]
  },
  {
   "cell_type": "markdown",
   "metadata": {
    "id": "VCE0zKEYqCVz"
   },
   "source": [
    "Informe a quantidade de classes a serem classificadas."
   ]
  },
  {
   "cell_type": "code",
   "execution_count": 10,
   "metadata": {
    "id": "hfhDtZYlAx9s"
   },
   "outputs": [],
   "source": [
    "## IMPLEMENTE\n",
    "\n",
    "qtde_classes = 3"
   ]
  },
  {
   "cell_type": "code",
   "execution_count": 11,
   "metadata": {
    "id": "kc08qpo6Ax9s"
   },
   "outputs": [],
   "source": [
    "conv_base = ResNet50(include_top=False)\n",
    "\n",
    "for layer in conv_base.layers:\n",
    "    layer.trainable = False"
   ]
  },
  {
   "cell_type": "code",
   "execution_count": 12,
   "metadata": {
    "colab": {
     "base_uri": "https://localhost:8080/"
    },
    "id": "oJYngdYNAx9t",
    "outputId": "b8deedea-58e0-4577-c7f3-4200b4f4824f"
   },
   "outputs": [
    {
     "name": "stdout",
     "output_type": "stream",
     "text": [
      "Model: \"model\"\n",
      "__________________________________________________________________________________________________\n",
      " Layer (type)                   Output Shape         Param #     Connected to                     \n",
      "==================================================================================================\n",
      " input_1 (InputLayer)           [(None, None, None,  0           []                               \n",
      "                                 3)]                                                              \n",
      "                                                                                                  \n",
      " conv1_pad (ZeroPadding2D)      (None, None, None,   0           ['input_1[0][0]']                \n",
      "                                3)                                                                \n",
      "                                                                                                  \n",
      " conv1_conv (Conv2D)            (None, None, None,   9472        ['conv1_pad[0][0]']              \n",
      "                                64)                                                               \n",
      "                                                                                                  \n",
      " conv1_bn (BatchNormalization)  (None, None, None,   256         ['conv1_conv[0][0]']             \n",
      "                                64)                                                               \n",
      "                                                                                                  \n",
      " conv1_relu (Activation)        (None, None, None,   0           ['conv1_bn[0][0]']               \n",
      "                                64)                                                               \n",
      "                                                                                                  \n",
      " pool1_pad (ZeroPadding2D)      (None, None, None,   0           ['conv1_relu[0][0]']             \n",
      "                                64)                                                               \n",
      "                                                                                                  \n",
      " pool1_pool (MaxPooling2D)      (None, None, None,   0           ['pool1_pad[0][0]']              \n",
      "                                64)                                                               \n",
      "                                                                                                  \n",
      " conv2_block1_1_conv (Conv2D)   (None, None, None,   4160        ['pool1_pool[0][0]']             \n",
      "                                64)                                                               \n",
      "                                                                                                  \n",
      " conv2_block1_1_bn (BatchNormal  (None, None, None,   256        ['conv2_block1_1_conv[0][0]']    \n",
      " ization)                       64)                                                               \n",
      "                                                                                                  \n",
      " conv2_block1_1_relu (Activatio  (None, None, None,   0          ['conv2_block1_1_bn[0][0]']      \n",
      " n)                             64)                                                               \n",
      "                                                                                                  \n",
      " conv2_block1_2_conv (Conv2D)   (None, None, None,   36928       ['conv2_block1_1_relu[0][0]']    \n",
      "                                64)                                                               \n",
      "                                                                                                  \n",
      " conv2_block1_2_bn (BatchNormal  (None, None, None,   256        ['conv2_block1_2_conv[0][0]']    \n",
      " ization)                       64)                                                               \n",
      "                                                                                                  \n",
      " conv2_block1_2_relu (Activatio  (None, None, None,   0          ['conv2_block1_2_bn[0][0]']      \n",
      " n)                             64)                                                               \n",
      "                                                                                                  \n",
      " conv2_block1_0_conv (Conv2D)   (None, None, None,   16640       ['pool1_pool[0][0]']             \n",
      "                                256)                                                              \n",
      "                                                                                                  \n",
      " conv2_block1_3_conv (Conv2D)   (None, None, None,   16640       ['conv2_block1_2_relu[0][0]']    \n",
      "                                256)                                                              \n",
      "                                                                                                  \n",
      " conv2_block1_0_bn (BatchNormal  (None, None, None,   1024       ['conv2_block1_0_conv[0][0]']    \n",
      " ization)                       256)                                                              \n",
      "                                                                                                  \n",
      " conv2_block1_3_bn (BatchNormal  (None, None, None,   1024       ['conv2_block1_3_conv[0][0]']    \n",
      " ization)                       256)                                                              \n",
      "                                                                                                  \n",
      " conv2_block1_add (Add)         (None, None, None,   0           ['conv2_block1_0_bn[0][0]',      \n",
      "                                256)                              'conv2_block1_3_bn[0][0]']      \n",
      "                                                                                                  \n",
      " conv2_block1_out (Activation)  (None, None, None,   0           ['conv2_block1_add[0][0]']       \n",
      "                                256)                                                              \n",
      "                                                                                                  \n",
      " conv2_block2_1_conv (Conv2D)   (None, None, None,   16448       ['conv2_block1_out[0][0]']       \n",
      "                                64)                                                               \n",
      "                                                                                                  \n",
      " conv2_block2_1_bn (BatchNormal  (None, None, None,   256        ['conv2_block2_1_conv[0][0]']    \n",
      " ization)                       64)                                                               \n",
      "                                                                                                  \n",
      " conv2_block2_1_relu (Activatio  (None, None, None,   0          ['conv2_block2_1_bn[0][0]']      \n",
      " n)                             64)                                                               \n",
      "                                                                                                  \n",
      " conv2_block2_2_conv (Conv2D)   (None, None, None,   36928       ['conv2_block2_1_relu[0][0]']    \n",
      "                                64)                                                               \n",
      "                                                                                                  \n",
      " conv2_block2_2_bn (BatchNormal  (None, None, None,   256        ['conv2_block2_2_conv[0][0]']    \n",
      " ization)                       64)                                                               \n",
      "                                                                                                  \n",
      " conv2_block2_2_relu (Activatio  (None, None, None,   0          ['conv2_block2_2_bn[0][0]']      \n",
      " n)                             64)                                                               \n",
      "                                                                                                  \n",
      " conv2_block2_3_conv (Conv2D)   (None, None, None,   16640       ['conv2_block2_2_relu[0][0]']    \n",
      "                                256)                                                              \n",
      "                                                                                                  \n",
      " conv2_block2_3_bn (BatchNormal  (None, None, None,   1024       ['conv2_block2_3_conv[0][0]']    \n",
      " ization)                       256)                                                              \n",
      "                                                                                                  \n",
      " conv2_block2_add (Add)         (None, None, None,   0           ['conv2_block1_out[0][0]',       \n",
      "                                256)                              'conv2_block2_3_bn[0][0]']      \n",
      "                                                                                                  \n",
      " conv2_block2_out (Activation)  (None, None, None,   0           ['conv2_block2_add[0][0]']       \n",
      "                                256)                                                              \n",
      "                                                                                                  \n",
      " conv2_block3_1_conv (Conv2D)   (None, None, None,   16448       ['conv2_block2_out[0][0]']       \n",
      "                                64)                                                               \n",
      "                                                                                                  \n",
      " conv2_block3_1_bn (BatchNormal  (None, None, None,   256        ['conv2_block3_1_conv[0][0]']    \n",
      " ization)                       64)                                                               \n",
      "                                                                                                  \n",
      " conv2_block3_1_relu (Activatio  (None, None, None,   0          ['conv2_block3_1_bn[0][0]']      \n",
      " n)                             64)                                                               \n",
      "                                                                                                  \n",
      " conv2_block3_2_conv (Conv2D)   (None, None, None,   36928       ['conv2_block3_1_relu[0][0]']    \n",
      "                                64)                                                               \n",
      "                                                                                                  \n",
      " conv2_block3_2_bn (BatchNormal  (None, None, None,   256        ['conv2_block3_2_conv[0][0]']    \n",
      " ization)                       64)                                                               \n",
      "                                                                                                  \n",
      " conv2_block3_2_relu (Activatio  (None, None, None,   0          ['conv2_block3_2_bn[0][0]']      \n",
      " n)                             64)                                                               \n",
      "                                                                                                  \n",
      " conv2_block3_3_conv (Conv2D)   (None, None, None,   16640       ['conv2_block3_2_relu[0][0]']    \n",
      "                                256)                                                              \n",
      "                                                                                                  \n",
      " conv2_block3_3_bn (BatchNormal  (None, None, None,   1024       ['conv2_block3_3_conv[0][0]']    \n",
      " ization)                       256)                                                              \n",
      "                                                                                                  \n",
      " conv2_block3_add (Add)         (None, None, None,   0           ['conv2_block2_out[0][0]',       \n",
      "                                256)                              'conv2_block3_3_bn[0][0]']      \n",
      "                                                                                                  \n",
      " conv2_block3_out (Activation)  (None, None, None,   0           ['conv2_block3_add[0][0]']       \n",
      "                                256)                                                              \n",
      "                                                                                                  \n",
      " conv3_block1_1_conv (Conv2D)   (None, None, None,   32896       ['conv2_block3_out[0][0]']       \n",
      "                                128)                                                              \n",
      "                                                                                                  \n",
      " conv3_block1_1_bn (BatchNormal  (None, None, None,   512        ['conv3_block1_1_conv[0][0]']    \n",
      " ization)                       128)                                                              \n",
      "                                                                                                  \n",
      " conv3_block1_1_relu (Activatio  (None, None, None,   0          ['conv3_block1_1_bn[0][0]']      \n",
      " n)                             128)                                                              \n",
      "                                                                                                  \n",
      " conv3_block1_2_conv (Conv2D)   (None, None, None,   147584      ['conv3_block1_1_relu[0][0]']    \n",
      "                                128)                                                              \n",
      "                                                                                                  \n",
      " conv3_block1_2_bn (BatchNormal  (None, None, None,   512        ['conv3_block1_2_conv[0][0]']    \n",
      " ization)                       128)                                                              \n",
      "                                                                                                  \n",
      " conv3_block1_2_relu (Activatio  (None, None, None,   0          ['conv3_block1_2_bn[0][0]']      \n",
      " n)                             128)                                                              \n",
      "                                                                                                  \n",
      " conv3_block1_0_conv (Conv2D)   (None, None, None,   131584      ['conv2_block3_out[0][0]']       \n",
      "                                512)                                                              \n",
      "                                                                                                  \n",
      " conv3_block1_3_conv (Conv2D)   (None, None, None,   66048       ['conv3_block1_2_relu[0][0]']    \n",
      "                                512)                                                              \n",
      "                                                                                                  \n",
      " conv3_block1_0_bn (BatchNormal  (None, None, None,   2048       ['conv3_block1_0_conv[0][0]']    \n",
      " ization)                       512)                                                              \n",
      "                                                                                                  \n",
      " conv3_block1_3_bn (BatchNormal  (None, None, None,   2048       ['conv3_block1_3_conv[0][0]']    \n",
      " ization)                       512)                                                              \n",
      "                                                                                                  \n",
      " conv3_block1_add (Add)         (None, None, None,   0           ['conv3_block1_0_bn[0][0]',      \n",
      "                                512)                              'conv3_block1_3_bn[0][0]']      \n",
      "                                                                                                  \n",
      " conv3_block1_out (Activation)  (None, None, None,   0           ['conv3_block1_add[0][0]']       \n",
      "                                512)                                                              \n",
      "                                                                                                  \n",
      " conv3_block2_1_conv (Conv2D)   (None, None, None,   65664       ['conv3_block1_out[0][0]']       \n",
      "                                128)                                                              \n",
      "                                                                                                  \n",
      " conv3_block2_1_bn (BatchNormal  (None, None, None,   512        ['conv3_block2_1_conv[0][0]']    \n",
      " ization)                       128)                                                              \n",
      "                                                                                                  \n",
      " conv3_block2_1_relu (Activatio  (None, None, None,   0          ['conv3_block2_1_bn[0][0]']      \n",
      " n)                             128)                                                              \n",
      "                                                                                                  \n",
      " conv3_block2_2_conv (Conv2D)   (None, None, None,   147584      ['conv3_block2_1_relu[0][0]']    \n",
      "                                128)                                                              \n",
      "                                                                                                  \n",
      " conv3_block2_2_bn (BatchNormal  (None, None, None,   512        ['conv3_block2_2_conv[0][0]']    \n",
      " ization)                       128)                                                              \n",
      "                                                                                                  \n",
      " conv3_block2_2_relu (Activatio  (None, None, None,   0          ['conv3_block2_2_bn[0][0]']      \n",
      " n)                             128)                                                              \n",
      "                                                                                                  \n",
      " conv3_block2_3_conv (Conv2D)   (None, None, None,   66048       ['conv3_block2_2_relu[0][0]']    \n",
      "                                512)                                                              \n",
      "                                                                                                  \n",
      " conv3_block2_3_bn (BatchNormal  (None, None, None,   2048       ['conv3_block2_3_conv[0][0]']    \n",
      " ization)                       512)                                                              \n",
      "                                                                                                  \n",
      " conv3_block2_add (Add)         (None, None, None,   0           ['conv3_block1_out[0][0]',       \n",
      "                                512)                              'conv3_block2_3_bn[0][0]']      \n",
      "                                                                                                  \n",
      " conv3_block2_out (Activation)  (None, None, None,   0           ['conv3_block2_add[0][0]']       \n",
      "                                512)                                                              \n",
      "                                                                                                  \n",
      " conv3_block3_1_conv (Conv2D)   (None, None, None,   65664       ['conv3_block2_out[0][0]']       \n",
      "                                128)                                                              \n",
      "                                                                                                  \n",
      " conv3_block3_1_bn (BatchNormal  (None, None, None,   512        ['conv3_block3_1_conv[0][0]']    \n",
      " ization)                       128)                                                              \n",
      "                                                                                                  \n",
      " conv3_block3_1_relu (Activatio  (None, None, None,   0          ['conv3_block3_1_bn[0][0]']      \n",
      " n)                             128)                                                              \n",
      "                                                                                                  \n",
      " conv3_block3_2_conv (Conv2D)   (None, None, None,   147584      ['conv3_block3_1_relu[0][0]']    \n",
      "                                128)                                                              \n",
      "                                                                                                  \n",
      " conv3_block3_2_bn (BatchNormal  (None, None, None,   512        ['conv3_block3_2_conv[0][0]']    \n",
      " ization)                       128)                                                              \n",
      "                                                                                                  \n",
      " conv3_block3_2_relu (Activatio  (None, None, None,   0          ['conv3_block3_2_bn[0][0]']      \n",
      " n)                             128)                                                              \n",
      "                                                                                                  \n",
      " conv3_block3_3_conv (Conv2D)   (None, None, None,   66048       ['conv3_block3_2_relu[0][0]']    \n",
      "                                512)                                                              \n",
      "                                                                                                  \n",
      " conv3_block3_3_bn (BatchNormal  (None, None, None,   2048       ['conv3_block3_3_conv[0][0]']    \n",
      " ization)                       512)                                                              \n",
      "                                                                                                  \n",
      " conv3_block3_add (Add)         (None, None, None,   0           ['conv3_block2_out[0][0]',       \n",
      "                                512)                              'conv3_block3_3_bn[0][0]']      \n",
      "                                                                                                  \n",
      " conv3_block3_out (Activation)  (None, None, None,   0           ['conv3_block3_add[0][0]']       \n",
      "                                512)                                                              \n",
      "                                                                                                  \n",
      " conv3_block4_1_conv (Conv2D)   (None, None, None,   65664       ['conv3_block3_out[0][0]']       \n",
      "                                128)                                                              \n",
      "                                                                                                  \n",
      " conv3_block4_1_bn (BatchNormal  (None, None, None,   512        ['conv3_block4_1_conv[0][0]']    \n",
      " ization)                       128)                                                              \n",
      "                                                                                                  \n",
      " conv3_block4_1_relu (Activatio  (None, None, None,   0          ['conv3_block4_1_bn[0][0]']      \n",
      " n)                             128)                                                              \n",
      "                                                                                                  \n",
      " conv3_block4_2_conv (Conv2D)   (None, None, None,   147584      ['conv3_block4_1_relu[0][0]']    \n",
      "                                128)                                                              \n",
      "                                                                                                  \n",
      " conv3_block4_2_bn (BatchNormal  (None, None, None,   512        ['conv3_block4_2_conv[0][0]']    \n",
      " ization)                       128)                                                              \n",
      "                                                                                                  \n",
      " conv3_block4_2_relu (Activatio  (None, None, None,   0          ['conv3_block4_2_bn[0][0]']      \n",
      " n)                             128)                                                              \n",
      "                                                                                                  \n",
      " conv3_block4_3_conv (Conv2D)   (None, None, None,   66048       ['conv3_block4_2_relu[0][0]']    \n",
      "                                512)                                                              \n",
      "                                                                                                  \n",
      " conv3_block4_3_bn (BatchNormal  (None, None, None,   2048       ['conv3_block4_3_conv[0][0]']    \n",
      " ization)                       512)                                                              \n",
      "                                                                                                  \n",
      " conv3_block4_add (Add)         (None, None, None,   0           ['conv3_block3_out[0][0]',       \n",
      "                                512)                              'conv3_block4_3_bn[0][0]']      \n",
      "                                                                                                  \n",
      " conv3_block4_out (Activation)  (None, None, None,   0           ['conv3_block4_add[0][0]']       \n",
      "                                512)                                                              \n",
      "                                                                                                  \n",
      " conv4_block1_1_conv (Conv2D)   (None, None, None,   131328      ['conv3_block4_out[0][0]']       \n",
      "                                256)                                                              \n",
      "                                                                                                  \n",
      " conv4_block1_1_bn (BatchNormal  (None, None, None,   1024       ['conv4_block1_1_conv[0][0]']    \n",
      " ization)                       256)                                                              \n",
      "                                                                                                  \n",
      " conv4_block1_1_relu (Activatio  (None, None, None,   0          ['conv4_block1_1_bn[0][0]']      \n",
      " n)                             256)                                                              \n",
      "                                                                                                  \n",
      " conv4_block1_2_conv (Conv2D)   (None, None, None,   590080      ['conv4_block1_1_relu[0][0]']    \n",
      "                                256)                                                              \n",
      "                                                                                                  \n",
      " conv4_block1_2_bn (BatchNormal  (None, None, None,   1024       ['conv4_block1_2_conv[0][0]']    \n",
      " ization)                       256)                                                              \n",
      "                                                                                                  \n",
      " conv4_block1_2_relu (Activatio  (None, None, None,   0          ['conv4_block1_2_bn[0][0]']      \n",
      " n)                             256)                                                              \n",
      "                                                                                                  \n",
      " conv4_block1_0_conv (Conv2D)   (None, None, None,   525312      ['conv3_block4_out[0][0]']       \n",
      "                                1024)                                                             \n",
      "                                                                                                  \n",
      " conv4_block1_3_conv (Conv2D)   (None, None, None,   263168      ['conv4_block1_2_relu[0][0]']    \n",
      "                                1024)                                                             \n",
      "                                                                                                  \n",
      " conv4_block1_0_bn (BatchNormal  (None, None, None,   4096       ['conv4_block1_0_conv[0][0]']    \n",
      " ization)                       1024)                                                             \n",
      "                                                                                                  \n",
      " conv4_block1_3_bn (BatchNormal  (None, None, None,   4096       ['conv4_block1_3_conv[0][0]']    \n",
      " ization)                       1024)                                                             \n",
      "                                                                                                  \n",
      " conv4_block1_add (Add)         (None, None, None,   0           ['conv4_block1_0_bn[0][0]',      \n",
      "                                1024)                             'conv4_block1_3_bn[0][0]']      \n",
      "                                                                                                  \n",
      " conv4_block1_out (Activation)  (None, None, None,   0           ['conv4_block1_add[0][0]']       \n",
      "                                1024)                                                             \n",
      "                                                                                                  \n",
      " conv4_block2_1_conv (Conv2D)   (None, None, None,   262400      ['conv4_block1_out[0][0]']       \n",
      "                                256)                                                              \n",
      "                                                                                                  \n",
      " conv4_block2_1_bn (BatchNormal  (None, None, None,   1024       ['conv4_block2_1_conv[0][0]']    \n",
      " ization)                       256)                                                              \n",
      "                                                                                                  \n",
      " conv4_block2_1_relu (Activatio  (None, None, None,   0          ['conv4_block2_1_bn[0][0]']      \n",
      " n)                             256)                                                              \n",
      "                                                                                                  \n",
      " conv4_block2_2_conv (Conv2D)   (None, None, None,   590080      ['conv4_block2_1_relu[0][0]']    \n",
      "                                256)                                                              \n",
      "                                                                                                  \n",
      " conv4_block2_2_bn (BatchNormal  (None, None, None,   1024       ['conv4_block2_2_conv[0][0]']    \n",
      " ization)                       256)                                                              \n",
      "                                                                                                  \n",
      " conv4_block2_2_relu (Activatio  (None, None, None,   0          ['conv4_block2_2_bn[0][0]']      \n",
      " n)                             256)                                                              \n",
      "                                                                                                  \n",
      " conv4_block2_3_conv (Conv2D)   (None, None, None,   263168      ['conv4_block2_2_relu[0][0]']    \n",
      "                                1024)                                                             \n",
      "                                                                                                  \n",
      " conv4_block2_3_bn (BatchNormal  (None, None, None,   4096       ['conv4_block2_3_conv[0][0]']    \n",
      " ization)                       1024)                                                             \n",
      "                                                                                                  \n",
      " conv4_block2_add (Add)         (None, None, None,   0           ['conv4_block1_out[0][0]',       \n",
      "                                1024)                             'conv4_block2_3_bn[0][0]']      \n",
      "                                                                                                  \n",
      " conv4_block2_out (Activation)  (None, None, None,   0           ['conv4_block2_add[0][0]']       \n",
      "                                1024)                                                             \n",
      "                                                                                                  \n",
      " conv4_block3_1_conv (Conv2D)   (None, None, None,   262400      ['conv4_block2_out[0][0]']       \n",
      "                                256)                                                              \n",
      "                                                                                                  \n",
      " conv4_block3_1_bn (BatchNormal  (None, None, None,   1024       ['conv4_block3_1_conv[0][0]']    \n",
      " ization)                       256)                                                              \n",
      "                                                                                                  \n",
      " conv4_block3_1_relu (Activatio  (None, None, None,   0          ['conv4_block3_1_bn[0][0]']      \n",
      " n)                             256)                                                              \n",
      "                                                                                                  \n",
      " conv4_block3_2_conv (Conv2D)   (None, None, None,   590080      ['conv4_block3_1_relu[0][0]']    \n",
      "                                256)                                                              \n",
      "                                                                                                  \n",
      " conv4_block3_2_bn (BatchNormal  (None, None, None,   1024       ['conv4_block3_2_conv[0][0]']    \n",
      " ization)                       256)                                                              \n",
      "                                                                                                  \n",
      " conv4_block3_2_relu (Activatio  (None, None, None,   0          ['conv4_block3_2_bn[0][0]']      \n",
      " n)                             256)                                                              \n",
      "                                                                                                  \n",
      " conv4_block3_3_conv (Conv2D)   (None, None, None,   263168      ['conv4_block3_2_relu[0][0]']    \n",
      "                                1024)                                                             \n",
      "                                                                                                  \n",
      " conv4_block3_3_bn (BatchNormal  (None, None, None,   4096       ['conv4_block3_3_conv[0][0]']    \n",
      " ization)                       1024)                                                             \n",
      "                                                                                                  \n",
      " conv4_block3_add (Add)         (None, None, None,   0           ['conv4_block2_out[0][0]',       \n",
      "                                1024)                             'conv4_block3_3_bn[0][0]']      \n",
      "                                                                                                  \n",
      " conv4_block3_out (Activation)  (None, None, None,   0           ['conv4_block3_add[0][0]']       \n",
      "                                1024)                                                             \n",
      "                                                                                                  \n",
      " conv4_block4_1_conv (Conv2D)   (None, None, None,   262400      ['conv4_block3_out[0][0]']       \n",
      "                                256)                                                              \n",
      "                                                                                                  \n",
      " conv4_block4_1_bn (BatchNormal  (None, None, None,   1024       ['conv4_block4_1_conv[0][0]']    \n",
      " ization)                       256)                                                              \n",
      "                                                                                                  \n",
      " conv4_block4_1_relu (Activatio  (None, None, None,   0          ['conv4_block4_1_bn[0][0]']      \n",
      " n)                             256)                                                              \n",
      "                                                                                                  \n",
      " conv4_block4_2_conv (Conv2D)   (None, None, None,   590080      ['conv4_block4_1_relu[0][0]']    \n",
      "                                256)                                                              \n",
      "                                                                                                  \n",
      " conv4_block4_2_bn (BatchNormal  (None, None, None,   1024       ['conv4_block4_2_conv[0][0]']    \n",
      " ization)                       256)                                                              \n",
      "                                                                                                  \n",
      " conv4_block4_2_relu (Activatio  (None, None, None,   0          ['conv4_block4_2_bn[0][0]']      \n",
      " n)                             256)                                                              \n",
      "                                                                                                  \n",
      " conv4_block4_3_conv (Conv2D)   (None, None, None,   263168      ['conv4_block4_2_relu[0][0]']    \n",
      "                                1024)                                                             \n",
      "                                                                                                  \n",
      " conv4_block4_3_bn (BatchNormal  (None, None, None,   4096       ['conv4_block4_3_conv[0][0]']    \n",
      " ization)                       1024)                                                             \n",
      "                                                                                                  \n",
      " conv4_block4_add (Add)         (None, None, None,   0           ['conv4_block3_out[0][0]',       \n",
      "                                1024)                             'conv4_block4_3_bn[0][0]']      \n",
      "                                                                                                  \n",
      " conv4_block4_out (Activation)  (None, None, None,   0           ['conv4_block4_add[0][0]']       \n",
      "                                1024)                                                             \n",
      "                                                                                                  \n",
      " conv4_block5_1_conv (Conv2D)   (None, None, None,   262400      ['conv4_block4_out[0][0]']       \n",
      "                                256)                                                              \n",
      "                                                                                                  \n",
      " conv4_block5_1_bn (BatchNormal  (None, None, None,   1024       ['conv4_block5_1_conv[0][0]']    \n",
      " ization)                       256)                                                              \n",
      "                                                                                                  \n",
      " conv4_block5_1_relu (Activatio  (None, None, None,   0          ['conv4_block5_1_bn[0][0]']      \n",
      " n)                             256)                                                              \n",
      "                                                                                                  \n",
      " conv4_block5_2_conv (Conv2D)   (None, None, None,   590080      ['conv4_block5_1_relu[0][0]']    \n",
      "                                256)                                                              \n",
      "                                                                                                  \n",
      " conv4_block5_2_bn (BatchNormal  (None, None, None,   1024       ['conv4_block5_2_conv[0][0]']    \n",
      " ization)                       256)                                                              \n",
      "                                                                                                  \n",
      " conv4_block5_2_relu (Activatio  (None, None, None,   0          ['conv4_block5_2_bn[0][0]']      \n",
      " n)                             256)                                                              \n",
      "                                                                                                  \n",
      " conv4_block5_3_conv (Conv2D)   (None, None, None,   263168      ['conv4_block5_2_relu[0][0]']    \n",
      "                                1024)                                                             \n",
      "                                                                                                  \n",
      " conv4_block5_3_bn (BatchNormal  (None, None, None,   4096       ['conv4_block5_3_conv[0][0]']    \n",
      " ization)                       1024)                                                             \n",
      "                                                                                                  \n",
      " conv4_block5_add (Add)         (None, None, None,   0           ['conv4_block4_out[0][0]',       \n",
      "                                1024)                             'conv4_block5_3_bn[0][0]']      \n",
      "                                                                                                  \n",
      " conv4_block5_out (Activation)  (None, None, None,   0           ['conv4_block5_add[0][0]']       \n",
      "                                1024)                                                             \n",
      "                                                                                                  \n",
      " conv4_block6_1_conv (Conv2D)   (None, None, None,   262400      ['conv4_block5_out[0][0]']       \n",
      "                                256)                                                              \n",
      "                                                                                                  \n",
      " conv4_block6_1_bn (BatchNormal  (None, None, None,   1024       ['conv4_block6_1_conv[0][0]']    \n",
      " ization)                       256)                                                              \n",
      "                                                                                                  \n",
      " conv4_block6_1_relu (Activatio  (None, None, None,   0          ['conv4_block6_1_bn[0][0]']      \n",
      " n)                             256)                                                              \n",
      "                                                                                                  \n",
      " conv4_block6_2_conv (Conv2D)   (None, None, None,   590080      ['conv4_block6_1_relu[0][0]']    \n",
      "                                256)                                                              \n",
      "                                                                                                  \n",
      " conv4_block6_2_bn (BatchNormal  (None, None, None,   1024       ['conv4_block6_2_conv[0][0]']    \n",
      " ization)                       256)                                                              \n",
      "                                                                                                  \n",
      " conv4_block6_2_relu (Activatio  (None, None, None,   0          ['conv4_block6_2_bn[0][0]']      \n",
      " n)                             256)                                                              \n",
      "                                                                                                  \n",
      " conv4_block6_3_conv (Conv2D)   (None, None, None,   263168      ['conv4_block6_2_relu[0][0]']    \n",
      "                                1024)                                                             \n",
      "                                                                                                  \n",
      " conv4_block6_3_bn (BatchNormal  (None, None, None,   4096       ['conv4_block6_3_conv[0][0]']    \n",
      " ization)                       1024)                                                             \n",
      "                                                                                                  \n",
      " conv4_block6_add (Add)         (None, None, None,   0           ['conv4_block5_out[0][0]',       \n",
      "                                1024)                             'conv4_block6_3_bn[0][0]']      \n",
      "                                                                                                  \n",
      " conv4_block6_out (Activation)  (None, None, None,   0           ['conv4_block6_add[0][0]']       \n",
      "                                1024)                                                             \n",
      "                                                                                                  \n",
      " conv5_block1_1_conv (Conv2D)   (None, None, None,   524800      ['conv4_block6_out[0][0]']       \n",
      "                                512)                                                              \n",
      "                                                                                                  \n",
      " conv5_block1_1_bn (BatchNormal  (None, None, None,   2048       ['conv5_block1_1_conv[0][0]']    \n",
      " ization)                       512)                                                              \n",
      "                                                                                                  \n",
      " conv5_block1_1_relu (Activatio  (None, None, None,   0          ['conv5_block1_1_bn[0][0]']      \n",
      " n)                             512)                                                              \n",
      "                                                                                                  \n",
      " conv5_block1_2_conv (Conv2D)   (None, None, None,   2359808     ['conv5_block1_1_relu[0][0]']    \n",
      "                                512)                                                              \n",
      "                                                                                                  \n",
      " conv5_block1_2_bn (BatchNormal  (None, None, None,   2048       ['conv5_block1_2_conv[0][0]']    \n",
      " ization)                       512)                                                              \n",
      "                                                                                                  \n",
      " conv5_block1_2_relu (Activatio  (None, None, None,   0          ['conv5_block1_2_bn[0][0]']      \n",
      " n)                             512)                                                              \n",
      "                                                                                                  \n",
      " conv5_block1_0_conv (Conv2D)   (None, None, None,   2099200     ['conv4_block6_out[0][0]']       \n",
      "                                2048)                                                             \n",
      "                                                                                                  \n",
      " conv5_block1_3_conv (Conv2D)   (None, None, None,   1050624     ['conv5_block1_2_relu[0][0]']    \n",
      "                                2048)                                                             \n",
      "                                                                                                  \n",
      " conv5_block1_0_bn (BatchNormal  (None, None, None,   8192       ['conv5_block1_0_conv[0][0]']    \n",
      " ization)                       2048)                                                             \n",
      "                                                                                                  \n",
      " conv5_block1_3_bn (BatchNormal  (None, None, None,   8192       ['conv5_block1_3_conv[0][0]']    \n",
      " ization)                       2048)                                                             \n",
      "                                                                                                  \n",
      " conv5_block1_add (Add)         (None, None, None,   0           ['conv5_block1_0_bn[0][0]',      \n",
      "                                2048)                             'conv5_block1_3_bn[0][0]']      \n",
      "                                                                                                  \n",
      " conv5_block1_out (Activation)  (None, None, None,   0           ['conv5_block1_add[0][0]']       \n",
      "                                2048)                                                             \n",
      "                                                                                                  \n",
      " conv5_block2_1_conv (Conv2D)   (None, None, None,   1049088     ['conv5_block1_out[0][0]']       \n",
      "                                512)                                                              \n",
      "                                                                                                  \n",
      " conv5_block2_1_bn (BatchNormal  (None, None, None,   2048       ['conv5_block2_1_conv[0][0]']    \n",
      " ization)                       512)                                                              \n",
      "                                                                                                  \n",
      " conv5_block2_1_relu (Activatio  (None, None, None,   0          ['conv5_block2_1_bn[0][0]']      \n",
      " n)                             512)                                                              \n",
      "                                                                                                  \n",
      " conv5_block2_2_conv (Conv2D)   (None, None, None,   2359808     ['conv5_block2_1_relu[0][0]']    \n",
      "                                512)                                                              \n",
      "                                                                                                  \n",
      " conv5_block2_2_bn (BatchNormal  (None, None, None,   2048       ['conv5_block2_2_conv[0][0]']    \n",
      " ization)                       512)                                                              \n",
      "                                                                                                  \n",
      " conv5_block2_2_relu (Activatio  (None, None, None,   0          ['conv5_block2_2_bn[0][0]']      \n",
      " n)                             512)                                                              \n",
      "                                                                                                  \n",
      " conv5_block2_3_conv (Conv2D)   (None, None, None,   1050624     ['conv5_block2_2_relu[0][0]']    \n",
      "                                2048)                                                             \n",
      "                                                                                                  \n",
      " conv5_block2_3_bn (BatchNormal  (None, None, None,   8192       ['conv5_block2_3_conv[0][0]']    \n",
      " ization)                       2048)                                                             \n",
      "                                                                                                  \n",
      " conv5_block2_add (Add)         (None, None, None,   0           ['conv5_block1_out[0][0]',       \n",
      "                                2048)                             'conv5_block2_3_bn[0][0]']      \n",
      "                                                                                                  \n",
      " conv5_block2_out (Activation)  (None, None, None,   0           ['conv5_block2_add[0][0]']       \n",
      "                                2048)                                                             \n",
      "                                                                                                  \n",
      " conv5_block3_1_conv (Conv2D)   (None, None, None,   1049088     ['conv5_block2_out[0][0]']       \n",
      "                                512)                                                              \n",
      "                                                                                                  \n",
      " conv5_block3_1_bn (BatchNormal  (None, None, None,   2048       ['conv5_block3_1_conv[0][0]']    \n",
      " ization)                       512)                                                              \n",
      "                                                                                                  \n",
      " conv5_block3_1_relu (Activatio  (None, None, None,   0          ['conv5_block3_1_bn[0][0]']      \n",
      " n)                             512)                                                              \n",
      "                                                                                                  \n",
      " conv5_block3_2_conv (Conv2D)   (None, None, None,   2359808     ['conv5_block3_1_relu[0][0]']    \n",
      "                                512)                                                              \n",
      "                                                                                                  \n",
      " conv5_block3_2_bn (BatchNormal  (None, None, None,   2048       ['conv5_block3_2_conv[0][0]']    \n",
      " ization)                       512)                                                              \n",
      "                                                                                                  \n",
      " conv5_block3_2_relu (Activatio  (None, None, None,   0          ['conv5_block3_2_bn[0][0]']      \n",
      " n)                             512)                                                              \n",
      "                                                                                                  \n",
      " conv5_block3_3_conv (Conv2D)   (None, None, None,   1050624     ['conv5_block3_2_relu[0][0]']    \n",
      "                                2048)                                                             \n",
      "                                                                                                  \n",
      " conv5_block3_3_bn (BatchNormal  (None, None, None,   8192       ['conv5_block3_3_conv[0][0]']    \n",
      " ization)                       2048)                                                             \n",
      "                                                                                                  \n",
      " conv5_block3_add (Add)         (None, None, None,   0           ['conv5_block2_out[0][0]',       \n",
      "                                2048)                             'conv5_block3_3_bn[0][0]']      \n",
      "                                                                                                  \n",
      " conv5_block3_out (Activation)  (None, None, None,   0           ['conv5_block3_add[0][0]']       \n",
      "                                2048)                                                             \n",
      "                                                                                                  \n",
      " global_average_pooling2d (Glob  (None, 2048)        0           ['conv5_block3_out[0][0]']       \n",
      " alAveragePooling2D)                                                                              \n",
      "                                                                                                  \n",
      " dense (Dense)                  (None, 128)          262272      ['global_average_pooling2d[0][0]'\n",
      "                                                                 ]                                \n",
      "                                                                                                  \n",
      " dense_1 (Dense)                (None, 3)            387         ['dense[0][0]']                  \n",
      "                                                                                                  \n",
      "==================================================================================================\n",
      "Total params: 23,850,371\n",
      "Trainable params: 262,659\n",
      "Non-trainable params: 23,587,712\n",
      "__________________________________________________________________________________________________\n"
     ]
    }
   ],
   "source": [
    "x = conv_base.output\n",
    "x = layers.GlobalAveragePooling2D()(x)\n",
    "x = layers.Dense(128, activation='relu')(x) \n",
    "\n",
    "predictions = layers.Dense(qtde_classes, activation='softmax')(x)\n",
    "model = Model(conv_base.input, predictions)\n",
    "\n",
    "model.summary()"
   ]
  },
  {
   "cell_type": "code",
   "execution_count": 13,
   "metadata": {
    "id": "rtYEakieAx9t"
   },
   "outputs": [],
   "source": [
    "optimizer = optimizers.Adam()\n",
    "model.compile(loss='categorical_crossentropy', optimizer=optimizer, metrics=[precision_score, recall_score, f1_score])"
   ]
  },
  {
   "cell_type": "markdown",
   "metadata": {
    "id": "kOo31AMXAx9u"
   },
   "source": [
    "O número de épocas define quantas vezes o modelo irá treinar e validar o erro, assim ajustando os pesos para melhor convergência.\n",
    "Escolha o número adequado de épocas para alcançarmos pelo menos **70% de precisão de validação**."
   ]
  },
  {
   "cell_type": "code",
   "execution_count": 14,
   "metadata": {
    "id": "t-th5Fd1Ax9v"
   },
   "outputs": [],
   "source": [
    "## IMPLEMENTE\n",
    "\n",
    "qtde_epocas = 10"
   ]
  },
  {
   "cell_type": "code",
   "execution_count": 15,
   "metadata": {
    "colab": {
     "base_uri": "https://localhost:8080/"
    },
    "id": "S-WZMwYsAx9w",
    "outputId": "710bcb74-425e-4df1-fbbe-c5b5d8688ca2"
   },
   "outputs": [
    {
     "name": "stdout",
     "output_type": "stream",
     "text": [
      "Epoch 1/10\n",
      "5/5 [==============================] - 25s 2s/step - loss: 1.8472 - precision_score: 0.4234 - recall_score: 0.3812 - f1_score: 0.3999 - val_loss: 1.3980 - val_precision_score: 0.5533 - val_recall_score: 0.5375 - val_f1_score: 0.5452\n",
      "Epoch 2/10\n",
      "5/5 [==============================] - 8s 2s/step - loss: 1.1730 - precision_score: 0.5921 - recall_score: 0.5625 - f1_score: 0.5767 - val_loss: 0.9538 - val_precision_score: 0.5900 - val_recall_score: 0.5250 - val_f1_score: 0.5553\n",
      "Epoch 3/10\n",
      "5/5 [==============================] - 10s 2s/step - loss: 0.9777 - precision_score: 0.6307 - recall_score: 0.5813 - f1_score: 0.6047 - val_loss: 0.6751 - val_precision_score: 0.7165 - val_recall_score: 0.6812 - val_f1_score: 0.6979\n",
      "Epoch 4/10\n",
      "5/5 [==============================] - 8s 2s/step - loss: 0.8686 - precision_score: 0.6443 - recall_score: 0.6113 - f1_score: 0.6272 - val_loss: 0.7866 - val_precision_score: 0.6899 - val_recall_score: 0.6812 - val_f1_score: 0.6855\n",
      "Epoch 5/10\n",
      "5/5 [==============================] - 9s 2s/step - loss: 0.6754 - precision_score: 0.7119 - recall_score: 0.6625 - f1_score: 0.6858 - val_loss: 0.7778 - val_precision_score: 0.6489 - val_recall_score: 0.5938 - val_f1_score: 0.6196\n",
      "Epoch 6/10\n",
      "5/5 [==============================] - 8s 2s/step - loss: 0.6077 - precision_score: 0.7201 - recall_score: 0.6625 - f1_score: 0.6889 - val_loss: 0.5907 - val_precision_score: 0.7299 - val_recall_score: 0.7125 - val_f1_score: 0.7210\n",
      "Epoch 7/10\n",
      "5/5 [==============================] - 9s 2s/step - loss: 0.7235 - precision_score: 0.7086 - recall_score: 0.6687 - f1_score: 0.6879 - val_loss: 0.4639 - val_precision_score: 0.7955 - val_recall_score: 0.7625 - val_f1_score: 0.7783\n",
      "Epoch 8/10\n",
      "5/5 [==============================] - 8s 2s/step - loss: 0.5840 - precision_score: 0.7534 - recall_score: 0.7063 - f1_score: 0.7287 - val_loss: 0.5325 - val_precision_score: 0.8308 - val_recall_score: 0.7937 - val_f1_score: 0.8118\n",
      "Epoch 9/10\n",
      "5/5 [==============================] - 9s 2s/step - loss: 0.5301 - precision_score: 0.7862 - recall_score: 0.7375 - f1_score: 0.7609 - val_loss: 0.4691 - val_precision_score: 0.8206 - val_recall_score: 0.8000 - val_f1_score: 0.8101\n",
      "Epoch 10/10\n",
      "5/5 [==============================] - 8s 2s/step - loss: 0.5198 - precision_score: 0.8552 - recall_score: 0.8438 - f1_score: 0.8494 - val_loss: 0.4115 - val_precision_score: 0.8217 - val_recall_score: 0.8000 - val_f1_score: 0.8105\n"
     ]
    }
   ],
   "source": [
    "history = model.fit(train_generator, epochs=qtde_epocas, validation_steps=5, steps_per_epoch=5, \n",
    "                    validation_data=val_generator)"
   ]
  },
  {
   "cell_type": "markdown",
   "metadata": {
    "id": "8pRu93yLAx9w"
   },
   "source": [
    "Um modelo que converge bem possui o gráfico de perda (*loss*) descendente e os gráfico de precisão (*precision*), sensibilidade (*recall*) e pontuação f1 (*f1 score*) em acendente."
   ]
  },
  {
   "cell_type": "code",
   "execution_count": 16,
   "metadata": {
    "colab": {
     "base_uri": "https://localhost:8080/",
     "height": 1000
    },
    "id": "R88Ato-hAx9x",
    "outputId": "b68e8efb-1ef7-4e91-d7ed-77c7e261d966"
   },
   "outputs": [
    {
     "data": {
      "image/png": "[encoded data removed]",
      "text/plain": [
       "<Figure size 432x288 with 1 Axes>"
      ]
     },
     "metadata": {
      "needs_background": "light"
     },
     "output_type": "display_data"
    },
    {
     "data": {
      "image/png": "[encoded data removed]",
      "text/plain": [
       "<Figure size 432x288 with 1 Axes>"
      ]
     },
     "metadata": {
      "needs_background": "light"
     },
     "output_type": "display_data"
    },
    {
     "data": {
      "image/png": "[encoded data removed]",
      "text/plain": [
       "<Figure size 432x288 with 1 Axes>"
      ]
     },
     "metadata": {
      "needs_background": "light"
     },
     "output_type": "display_data"
    },
    {
     "data": {
      "image/png": "[encoded data removed]",
      "text/plain": [
       "<Figure size 432x288 with 1 Axes>"
      ]
     },
     "metadata": {
      "needs_background": "light"
     },
     "output_type": "display_data"
    }
   ],
   "source": [
    "# Exibindo dados de Precisão\n",
    "plt.plot(history.history['precision_score'])\n",
    "plt.plot(history.history['val_precision_score'])\n",
    "plt.title('model precision')\n",
    "plt.ylabel('precision')\n",
    "plt.xlabel('epoch')\n",
    "plt.legend(['train', 'test'], loc='upper left')\n",
    "plt.show()\n",
    "\n",
    "# Exibindo dados de Sensibilidade\n",
    "plt.plot(history.history['recall_score'])\n",
    "plt.plot(history.history['val_recall_score'])\n",
    "plt.title('model recall')\n",
    "plt.ylabel('recall')\n",
    "plt.xlabel('epoch')\n",
    "plt.legend(['train', 'test'], loc='upper left')\n",
    "plt.show()\n",
    "\n",
    "# Exibindo dados de F1 Score\n",
    "plt.plot(history.history['f1_score'])\n",
    "plt.plot(history.history['val_f1_score'])\n",
    "plt.title('model f1_score')\n",
    "plt.ylabel('f1_score')\n",
    "plt.xlabel('epoch')\n",
    "plt.legend(['train', 'test'], loc='upper left')\n",
    "plt.show()\n",
    "\n",
    "# Exibindo dados de Perda\n",
    "plt.plot(history.history['loss'])\n",
    "plt.plot(history.history['val_loss'])\n",
    "plt.title('model loss')\n",
    "plt.ylabel('loss')\n",
    "plt.xlabel('epoch')\n",
    "plt.legend(['train', 'test'], loc='upper left')\n",
    "plt.show()"
   ]
  },
  {
   "cell_type": "markdown",
   "metadata": {
    "id": "2CVjpiRrAx9y"
   },
   "source": [
    "**Pergunta**: Avalie os gráficos de perda (*loss*), precisão (*precision*), sensibilidade (*recall*) e pontuação f1 (*f1 score*)  e explique o comportamento de ambos no que tange a convergência do modelo."
   ]
  },
  {
   "cell_type": "markdown",
   "metadata": {
    "id": "zG5pVSgeAx9y"
   },
   "source": [
    "**Resposta**: Pelos gráficos é possível ....\n",
    "\n"
   ]
  },
  {
   "cell_type": "markdown",
   "metadata": {
    "id": "vTfYfaQqAx9z"
   },
   "source": [
    "**Pergunta**: Quais são os valores de **precisão (precision)**, **sensibilidade (recall)** de validação? \n",
    "\n",
    "*Estes valores são exibidos durante o treinamento, utilize a última saída, exemplo:*\n",
    "\n",
    "```\n",
    "Epoch 10/10 [==============================] - 45s 9s/step - loss: 0.1234 - precision_score: 0.9742 - recall_score: 0.9683 - f1_score: 0.9712 - val_loss: 0.8819 - val_precision_score: 0.6912 - val_recall_score: 0.5649 - val_f1_score: 0.6216```\n",
    "\n",
    "No caso acima, o valor de precisão, sensibilidade e pontuação de validação são, respectivamente, 69,12%, 56,49% e 62,16%."
   ]
  },
  {
   "cell_type": "markdown",
   "metadata": {
    "id": "UGBf1ZefAx9z"
   },
   "source": [
    "**Resposta**: Precisão: 82.17%, sensibilidade: 80.00%, f1-score: 81.05%."
   ]
  },
  {
   "cell_type": "markdown",
   "metadata": {
    "id": "tNaGyapeAx9z"
   },
   "source": [
    "### 4.5.2 Arquitetura VGG16"
   ]
  },
  {
   "cell_type": "markdown",
   "metadata": {
    "id": "hvtFtYEWAx90"
   },
   "source": [
    "**Pergunta**: Explique como é constituída a arquitetura do VGG16? *Utilize, se necessário, gráficos, projetos que utilizam essa arquitetura. Detalhe também sua topologia em camadas e mostre quais as situações essa arquitetura pode ter mais êxito e quais cenários não tem.*"
   ]
  },
  {
   "cell_type": "markdown",
   "metadata": {
    "id": "Qz1FW5GxTEKZ"
   },
   "source": [
    "**Resposta**: VGG16 é uma rede neural convolucional composta por 16 camadas, em que as camadas covolucionais, com ReLu como função de ativação, são seguidas por uma camada de max pooling, para redução da dimensionalidade. Ao final, são adicionadas 3 camadas Fully connected e uma soft max."
   ]
  },
  {
   "cell_type": "code",
   "execution_count": 17,
   "metadata": {
    "id": "q20GICtQAx91"
   },
   "outputs": [],
   "source": [
    "conv_base = VGG16(include_top=False)\n",
    "\n",
    "for layer in conv_base.layers:\n",
    "    layer.trainable = False"
   ]
  },
  {
   "cell_type": "code",
   "execution_count": 18,
   "metadata": {
    "colab": {
     "base_uri": "https://localhost:8080/"
    },
    "id": "i1t_fzTVAx91",
    "outputId": "c1536f88-19bf-4655-b943-858085fb3353"
   },
   "outputs": [
    {
     "name": "stdout",
     "output_type": "stream",
     "text": [
      "Model: \"model_1\"\n",
      "_________________________________________________________________\n",
      " Layer (type)                Output Shape              Param #   \n",
      "=================================================================\n",
      " input_2 (InputLayer)        [(None, None, None, 3)]   0         \n",
      "                                                                 \n",
      " block1_conv1 (Conv2D)       (None, None, None, 64)    1792      \n",
      "                                                                 \n",
      " block1_conv2 (Conv2D)       (None, None, None, 64)    36928     \n",
      "                                                                 \n",
      " block1_pool (MaxPooling2D)  (None, None, None, 64)    0         \n",
      "                                                                 \n",
      " block2_conv1 (Conv2D)       (None, None, None, 128)   73856     \n",
      "                                                                 \n",
      " block2_conv2 (Conv2D)       (None, None, None, 128)   147584    \n",
      "                                                                 \n",
      " block2_pool (MaxPooling2D)  (None, None, None, 128)   0         \n",
      "                                                                 \n",
      " block3_conv1 (Conv2D)       (None, None, None, 256)   295168    \n",
      "                                                                 \n",
      " block3_conv2 (Conv2D)       (None, None, None, 256)   590080    \n",
      "                                                                 \n",
      " block3_conv3 (Conv2D)       (None, None, None, 256)   590080    \n",
      "                                                                 \n",
      " block3_pool (MaxPooling2D)  (None, None, None, 256)   0         \n",
      "                                                                 \n",
      " block4_conv1 (Conv2D)       (None, None, None, 512)   1180160   \n",
      "                                                                 \n",
      " block4_conv2 (Conv2D)       (None, None, None, 512)   2359808   \n",
      "                                                                 \n",
      " block4_conv3 (Conv2D)       (None, None, None, 512)   2359808   \n",
      "                                                                 \n",
      " block4_pool (MaxPooling2D)  (None, None, None, 512)   0         \n",
      "                                                                 \n",
      " block5_conv1 (Conv2D)       (None, None, None, 512)   2359808   \n",
      "                                                                 \n",
      " block5_conv2 (Conv2D)       (None, None, None, 512)   2359808   \n",
      "                                                                 \n",
      " block5_conv3 (Conv2D)       (None, None, None, 512)   2359808   \n",
      "                                                                 \n",
      " block5_pool (MaxPooling2D)  (None, None, None, 512)   0         \n",
      "                                                                 \n",
      " global_average_pooling2d_1   (None, 512)              0         \n",
      " (GlobalAveragePooling2D)                                        \n",
      "                                                                 \n",
      " dense_2 (Dense)             (None, 128)               65664     \n",
      "                                                                 \n",
      " dense_3 (Dense)             (None, 3)                 387       \n",
      "                                                                 \n",
      "=================================================================\n",
      "Total params: 14,780,739\n",
      "Trainable params: 66,051\n",
      "Non-trainable params: 14,714,688\n",
      "_________________________________________________________________\n"
     ]
    }
   ],
   "source": [
    "x = conv_base.output\n",
    "x = layers.GlobalAveragePooling2D()(x)\n",
    "x = layers.Dense(128, activation='relu')(x) \n",
    "\n",
    "predictions = layers.Dense(qtde_classes, activation='softmax')(x)\n",
    "model = Model(conv_base.input, predictions)\n",
    "\n",
    "model.summary()"
   ]
  },
  {
   "cell_type": "code",
   "execution_count": 19,
   "metadata": {
    "id": "1k5PLrI5Ax92"
   },
   "outputs": [],
   "source": [
    "optimizer = optimizers.Adam()\n",
    "model.compile(loss='categorical_crossentropy', optimizer=optimizer, metrics=[precision_score, recall_score, f1_score])"
   ]
  },
  {
   "cell_type": "code",
   "execution_count": 20,
   "metadata": {
    "colab": {
     "base_uri": "https://localhost:8080/"
    },
    "id": "1RsD8TbtAx92",
    "outputId": "9c2fd544-b083-40ee-d57b-73b39aa9c2df"
   },
   "outputs": [
    {
     "name": "stdout",
     "output_type": "stream",
     "text": [
      "Epoch 1/10\n",
      "5/5 [==============================] - 23s 2s/step - loss: 5.0192 - precision_score: 0.4280 - recall_score: 0.4250 - f1_score: 0.4265 - val_loss: 5.0205 - val_precision_score: 0.4625 - val_recall_score: 0.4625 - val_f1_score: 0.4625\n",
      "Epoch 2/10\n",
      "5/5 [==============================] - 8s 2s/step - loss: 3.2132 - precision_score: 0.5567 - recall_score: 0.5500 - f1_score: 0.5532 - val_loss: 1.6005 - val_precision_score: 0.6170 - val_recall_score: 0.6062 - val_f1_score: 0.6115\n",
      "Epoch 3/10\n",
      "5/5 [==============================] - 7s 2s/step - loss: 1.7853 - precision_score: 0.5864 - recall_score: 0.5750 - f1_score: 0.5805 - val_loss: 2.1701 - val_precision_score: 0.4841 - val_recall_score: 0.4750 - val_f1_score: 0.4795\n",
      "Epoch 4/10\n",
      "5/5 [==============================] - 7s 2s/step - loss: 1.7278 - precision_score: 0.5475 - recall_score: 0.5250 - f1_score: 0.5359 - val_loss: 1.0880 - val_precision_score: 0.7234 - val_recall_score: 0.7188 - val_f1_score: 0.7210\n",
      "Epoch 5/10\n",
      "5/5 [==============================] - 7s 1s/step - loss: 0.9967 - precision_score: 0.7252 - recall_score: 0.7125 - f1_score: 0.7188 - val_loss: 1.0148 - val_precision_score: 0.6915 - val_recall_score: 0.6750 - val_f1_score: 0.6831\n",
      "Epoch 6/10\n",
      "5/5 [==============================] - 6s 1s/step - loss: 1.0119 - precision_score: 0.7203 - recall_score: 0.6938 - f1_score: 0.7064 - val_loss: 0.7133 - val_precision_score: 0.7646 - val_recall_score: 0.7500 - val_f1_score: 0.7571\n",
      "Epoch 7/10\n",
      "5/5 [==============================] - 7s 2s/step - loss: 0.8116 - precision_score: 0.7085 - recall_score: 0.6812 - f1_score: 0.6945 - val_loss: 0.9007 - val_precision_score: 0.6942 - val_recall_score: 0.6812 - val_f1_score: 0.6876\n",
      "Epoch 8/10\n",
      "5/5 [==============================] - 6s 1s/step - loss: 0.6750 - precision_score: 0.7859 - recall_score: 0.7563 - f1_score: 0.7707 - val_loss: 0.5810 - val_precision_score: 0.8067 - val_recall_score: 0.7875 - val_f1_score: 0.7969\n",
      "Epoch 9/10\n",
      "5/5 [==============================] - 6s 1s/step - loss: 0.7420 - precision_score: 0.6946 - recall_score: 0.6812 - f1_score: 0.6878 - val_loss: 0.5152 - val_precision_score: 0.7722 - val_recall_score: 0.7437 - val_f1_score: 0.7576\n",
      "Epoch 10/10\n",
      "5/5 [==============================] - 7s 1s/step - loss: 0.6098 - precision_score: 0.7367 - recall_score: 0.7188 - f1_score: 0.7274 - val_loss: 0.7889 - val_precision_score: 0.7238 - val_recall_score: 0.6938 - val_f1_score: 0.7084\n"
     ]
    }
   ],
   "source": [
    "history = model.fit(train_generator, epochs=qtde_epocas, validation_steps=5, steps_per_epoch=5, \n",
    "                    validation_data=val_generator)"
   ]
  },
  {
   "cell_type": "markdown",
   "metadata": {
    "id": "UIKsgb0oAx92"
   },
   "source": [
    "Um modelo que converge bem possui o gráfico de perda (*loss*) descendente e os gráfico de precisão (*precision*), sensibilidade (*recall*) e pontuação f1 (*f1 score*) em acendente."
   ]
  },
  {
   "cell_type": "code",
   "execution_count": 21,
   "metadata": {
    "colab": {
     "base_uri": "https://localhost:8080/",
     "height": 1000
    },
    "id": "5i6ZWa3oAx93",
    "outputId": "10a41991-4c3e-47b8-c431-13b7519e520e"
   },
   "outputs": [
    {
     "data": {
      "image/png": "[encoded data removed]",
      "text/plain": [
       "<Figure size 432x288 with 1 Axes>"
      ]
     },
     "metadata": {
      "needs_background": "light"
     },
     "output_type": "display_data"
    },
    {
     "data": {
      "image/png": "[encoded data removed]",
      "text/plain": [
       "<Figure size 432x288 with 1 Axes>"
      ]
     },
     "metadata": {
      "needs_background": "light"
     },
     "output_type": "display_data"
    },
    {
     "data": {
      "image/png": "[encoded data removed]",
      "text/plain": [
       "<Figure size 432x288 with 1 Axes>"
      ]
     },
     "metadata": {
      "needs_background": "light"
     },
     "output_type": "display_data"
    },
    {
     "data": {
      "image/png": "[encoded data removed]",
      "text/plain": [
       "<Figure size 432x288 with 1 Axes>"
      ]
     },
     "metadata": {
      "needs_background": "light"
     },
     "output_type": "display_data"
    }
   ],
   "source": [
    "# Exibindo dados de Precisão\n",
    "plt.plot(history.history['precision_score'])\n",
    "plt.plot(history.history['val_precision_score'])\n",
    "plt.title('model precision')\n",
    "plt.ylabel('precision')\n",
    "plt.xlabel('epoch')\n",
    "plt.legend(['train', 'test'], loc='upper left')\n",
    "plt.show()\n",
    "\n",
    "# Exibindo dados de Sensibilidade\n",
    "plt.plot(history.history['recall_score'])\n",
    "plt.plot(history.history['val_recall_score'])\n",
    "plt.title('model recall')\n",
    "plt.ylabel('recall')\n",
    "plt.xlabel('epoch')\n",
    "plt.legend(['train', 'test'], loc='upper left')\n",
    "plt.show()\n",
    "\n",
    "# Exibindo dados de F1 Score\n",
    "plt.plot(history.history['f1_score'])\n",
    "plt.plot(history.history['val_f1_score'])\n",
    "plt.title('model f1_score')\n",
    "plt.ylabel('f1_score')\n",
    "plt.xlabel('epoch')\n",
    "plt.legend(['train', 'test'], loc='upper left')\n",
    "plt.show()\n",
    "\n",
    "# Exibindo dados de Perda\n",
    "plt.plot(history.history['loss'])\n",
    "plt.plot(history.history['val_loss'])\n",
    "plt.title('model loss')\n",
    "plt.ylabel('loss')\n",
    "plt.xlabel('epoch')\n",
    "plt.legend(['train', 'test'], loc='upper left')\n",
    "plt.show()"
   ]
  },
  {
   "cell_type": "markdown",
   "metadata": {
    "id": "VhOZwCzYAx93"
   },
   "source": [
    "**Pergunta**: Avalie os gráficos de perda (*loss*), precisão (*precision*), sensibilidade (*recall*) e pontuação f1 (*f1 score*)  e explique o comportamento de ambos no que tange a convergência do modelo."
   ]
  },
  {
   "cell_type": "markdown",
   "metadata": {
    "id": "1JM2XlXTAx94"
   },
   "source": [
    "**Resposta**: É possível perceber que para a base de teste o modelo estava estável a partir da época 4, pois todos os indicadores não sofreram muita variação. Quanto a base de treino, ainda estava instável, o que pode indicar que o modelo ainda não havia chego no seu potencial, terminando com uma queda no f1 e um aumento nas perdas."
   ]
  },
  {
   "cell_type": "markdown",
   "metadata": {
    "id": "ec3xKMZLAx94"
   },
   "source": [
    "**Pergunta**: Quais são os valores de **precisão (precision)**, **sensibilidade (recall)** de validação? \n",
    "\n",
    "*Estes valores são exibidos durante o treinamento, utilize a última saída, exemplo:*\n",
    "\n",
    "```\n",
    "Epoch 10/10 [==============================] - 45s 9s/step - loss: 0.1234 - precision_score: 0.9742 - recall_score: 0.9683 - f1_score: 0.9712 - val_loss: 0.8819 - val_precision_score: 0.6912 - val_recall_score: 0.5649 - val_f1_score: 0.6216```\n",
    "\n",
    "No caso acima, o valor de precisão, sensibilidade e pontuação de validação são, respectivamente, 69,12%, 56,49% e 62,16%."
   ]
  },
  {
   "cell_type": "markdown",
   "metadata": {
    "id": "XTzA9LQpAx95"
   },
   "source": [
    "**Resposta**: Precisão: 72,38%, sensibilidade: 69,38%, f1-score: 70,84%."
   ]
  },
  {
   "cell_type": "markdown",
   "metadata": {
    "id": "PZAerJa0Ax95"
   },
   "source": [
    "### 4.5.3 Arquitetura VGG19"
   ]
  },
  {
   "cell_type": "markdown",
   "metadata": {
    "id": "800exlPMAx96"
   },
   "source": [
    "**Pergunta**: Explique como é constituída a arquitetura do VGG19? *Utilize, se necessário, gráficos, projetos que utilizam essa arquitetura. Detalhe também sua topologia em camadas e mostre quais as situações essa arquitetura pode ter mais êxito e quais cenários não tem.*"
   ]
  },
  {
   "cell_type": "markdown",
   "metadata": {
    "id": "qsCtD9jrAx96"
   },
   "source": [
    "**Resposta**:  A VGG19n é uma arquitetura composta por 19 camadas, onde 16 camadas são camadas convolucionais e 3 totalmente conectadas.\n",
    "\n",
    "Essa arquitetura possui algumas características compartilhadas com outra arquitetura da sua família, a VGG16. Um input de (224, 224, 3), filtros 3x3, a intercalação de camadas convolucionais com camadas de max pooling e a utilização de uma camada softmax no final da arquitetura para classificação em 1000 categorias são algumas das características que ambas arquiteturas compartilham. A principal diferença entre VGG16 e a VGG19 é a existência de 3 camadas convolucionais a mais localizadas ao final dos três últimos conjuntos de camadas convolucionais.\n",
    "\n",
    "O VGG19 pode se destacar em situações onde a acurácia é extremamente importante, porém, em outras situações onde precisamos focar em consumo de energia, velocidade e tamanho de modelo para baratear o projeto, o VGG19 perde em relação a outras arquiteturas."
   ]
  },
  {
   "cell_type": "code",
   "execution_count": 22,
   "metadata": {
    "id": "yNLL-5TwAx96"
   },
   "outputs": [],
   "source": [
    "conv_base = VGG19(include_top=False)\n",
    "\n",
    "for layer in conv_base.layers:\n",
    "    layer.trainable = False"
   ]
  },
  {
   "cell_type": "code",
   "execution_count": 23,
   "metadata": {
    "colab": {
     "base_uri": "https://localhost:8080/"
    },
    "id": "P0XXbeIPAx97",
    "outputId": "bdd7929e-865b-4d6b-b573-b7423aa20c59"
   },
   "outputs": [
    {
     "name": "stdout",
     "output_type": "stream",
     "text": [
      "Model: \"model_2\"\n",
      "_________________________________________________________________\n",
      " Layer (type)                Output Shape              Param #   \n",
      "=================================================================\n",
      " input_3 (InputLayer)        [(None, None, None, 3)]   0         \n",
      "                                                                 \n",
      " block1_conv1 (Conv2D)       (None, None, None, 64)    1792      \n",
      "                                                                 \n",
      " block1_conv2 (Conv2D)       (None, None, None, 64)    36928     \n",
      "                                                                 \n",
      " block1_pool (MaxPooling2D)  (None, None, None, 64)    0         \n",
      "                                                                 \n",
      " block2_conv1 (Conv2D)       (None, None, None, 128)   73856     \n",
      "                                                                 \n",
      " block2_conv2 (Conv2D)       (None, None, None, 128)   147584    \n",
      "                                                                 \n",
      " block2_pool (MaxPooling2D)  (None, None, None, 128)   0         \n",
      "                                                                 \n",
      " block3_conv1 (Conv2D)       (None, None, None, 256)   295168    \n",
      "                                                                 \n",
      " block3_conv2 (Conv2D)       (None, None, None, 256)   590080    \n",
      "                                                                 \n",
      " block3_conv3 (Conv2D)       (None, None, None, 256)   590080    \n",
      "                                                                 \n",
      " block3_conv4 (Conv2D)       (None, None, None, 256)   590080    \n",
      "                                                                 \n",
      " block3_pool (MaxPooling2D)  (None, None, None, 256)   0         \n",
      "                                                                 \n",
      " block4_conv1 (Conv2D)       (None, None, None, 512)   1180160   \n",
      "                                                                 \n",
      " block4_conv2 (Conv2D)       (None, None, None, 512)   2359808   \n",
      "                                                                 \n",
      " block4_conv3 (Conv2D)       (None, None, None, 512)   2359808   \n",
      "                                                                 \n",
      " block4_conv4 (Conv2D)       (None, None, None, 512)   2359808   \n",
      "                                                                 \n",
      " block4_pool (MaxPooling2D)  (None, None, None, 512)   0         \n",
      "                                                                 \n",
      " block5_conv1 (Conv2D)       (None, None, None, 512)   2359808   \n",
      "                                                                 \n",
      " block5_conv2 (Conv2D)       (None, None, None, 512)   2359808   \n",
      "                                                                 \n",
      " block5_conv3 (Conv2D)       (None, None, None, 512)   2359808   \n",
      "                                                                 \n",
      " block5_conv4 (Conv2D)       (None, None, None, 512)   2359808   \n",
      "                                                                 \n",
      " block5_pool (MaxPooling2D)  (None, None, None, 512)   0         \n",
      "                                                                 \n",
      " global_average_pooling2d_2   (None, 512)              0         \n",
      " (GlobalAveragePooling2D)                                        \n",
      "                                                                 \n",
      " dense_4 (Dense)             (None, 128)               65664     \n",
      "                                                                 \n",
      " dense_5 (Dense)             (None, 3)                 387       \n",
      "                                                                 \n",
      "=================================================================\n",
      "Total params: 20,090,435\n",
      "Trainable params: 66,051\n",
      "Non-trainable params: 20,024,384\n",
      "_________________________________________________________________\n"
     ]
    }
   ],
   "source": [
    "x = conv_base.output\n",
    "x = layers.GlobalAveragePooling2D()(x)\n",
    "x = layers.Dense(128, activation='relu')(x) \n",
    "\n",
    "predictions = layers.Dense(qtde_classes, activation='softmax')(x)\n",
    "model = Model(conv_base.input, predictions)\n",
    "\n",
    "model.summary()"
   ]
  },
  {
   "cell_type": "code",
   "execution_count": 24,
   "metadata": {
    "id": "MYa-xQIyAx97"
   },
   "outputs": [],
   "source": [
    "optimizer = optimizers.Adam()\n",
    "model.compile(loss='categorical_crossentropy', optimizer=optimizer, metrics=[precision_score, recall_score, f1_score])"
   ]
  },
  {
   "cell_type": "code",
   "execution_count": 25,
   "metadata": {
    "colab": {
     "base_uri": "https://localhost:8080/"
    },
    "id": "hitM1VrfAx98",
    "outputId": "245088df-b30a-4958-b549-aa10396aa320"
   },
   "outputs": [
    {
     "name": "stdout",
     "output_type": "stream",
     "text": [
      "Epoch 1/10\n",
      "5/5 [==============================] - 9s 2s/step - loss: 3.2277 - precision_score: 0.3685 - recall_score: 0.3625 - f1_score: 0.3655 - val_loss: 1.2142 - val_precision_score: 0.5872 - val_recall_score: 0.5688 - val_f1_score: 0.5777\n",
      "Epoch 2/10\n",
      "5/5 [==============================] - 7s 1s/step - loss: 1.6494 - precision_score: 0.5666 - recall_score: 0.5500 - f1_score: 0.5580 - val_loss: 0.9647 - val_precision_score: 0.6888 - val_recall_score: 0.6687 - val_f1_score: 0.6785\n",
      "Epoch 3/10\n",
      "5/5 [==============================] - 7s 1s/step - loss: 1.0768 - precision_score: 0.6616 - recall_score: 0.6438 - f1_score: 0.6524 - val_loss: 0.9726 - val_precision_score: 0.6639 - val_recall_score: 0.6375 - val_f1_score: 0.6503\n",
      "Epoch 4/10\n",
      "5/5 [==============================] - 7s 1s/step - loss: 1.1505 - precision_score: 0.6323 - recall_score: 0.6250 - f1_score: 0.6286 - val_loss: 0.8017 - val_precision_score: 0.6876 - val_recall_score: 0.6687 - val_f1_score: 0.6779\n",
      "Epoch 5/10\n",
      "5/5 [==============================] - 6s 1s/step - loss: 0.9965 - precision_score: 0.7144 - recall_score: 0.7000 - f1_score: 0.7070 - val_loss: 0.7780 - val_precision_score: 0.7450 - val_recall_score: 0.7312 - val_f1_score: 0.7380\n",
      "Epoch 6/10\n",
      "5/5 [==============================] - 7s 2s/step - loss: 0.8891 - precision_score: 0.6612 - recall_score: 0.6562 - f1_score: 0.6587 - val_loss: 1.0089 - val_precision_score: 0.6595 - val_recall_score: 0.6375 - val_f1_score: 0.6481\n",
      "Epoch 7/10\n",
      "5/5 [==============================] - 6s 1s/step - loss: 0.9741 - precision_score: 0.6050 - recall_score: 0.5938 - f1_score: 0.5993 - val_loss: 0.7232 - val_precision_score: 0.7292 - val_recall_score: 0.7250 - val_f1_score: 0.7271\n",
      "Epoch 8/10\n",
      "5/5 [==============================] - 6s 1s/step - loss: 0.7461 - precision_score: 0.7493 - recall_score: 0.7312 - f1_score: 0.7400 - val_loss: 0.8732 - val_precision_score: 0.6770 - val_recall_score: 0.6687 - val_f1_score: 0.6728\n",
      "Epoch 9/10\n",
      "5/5 [==============================] - 6s 1s/step - loss: 0.9576 - precision_score: 0.7165 - recall_score: 0.7125 - f1_score: 0.7145 - val_loss: 0.9492 - val_precision_score: 0.6812 - val_recall_score: 0.6812 - val_f1_score: 0.6812\n",
      "Epoch 10/10\n",
      "5/5 [==============================] - 6s 1s/step - loss: 0.8348 - precision_score: 0.6788 - recall_score: 0.6750 - f1_score: 0.6769 - val_loss: 0.7796 - val_precision_score: 0.7191 - val_recall_score: 0.6875 - val_f1_score: 0.7028\n"
     ]
    }
   ],
   "source": [
    "history = model.fit(train_generator, epochs=qtde_epocas, validation_steps=5, steps_per_epoch=5, \n",
    "                    validation_data=val_generator)"
   ]
  },
  {
   "cell_type": "markdown",
   "metadata": {
    "id": "5UYHXMK5Ax99"
   },
   "source": [
    "Um modelo que converge bem possui o gráfico de perda (*loss*) descendente e os gráfico de precisão (*precision*), sensibilidade (*recall*) e pontuação f1 (*f1 score*) em acendente."
   ]
  },
  {
   "cell_type": "code",
   "execution_count": 26,
   "metadata": {
    "colab": {
     "base_uri": "https://localhost:8080/",
     "height": 1000
    },
    "id": "06IJ_S8uAx9-",
    "outputId": "e1b94a00-5c6b-4edf-deee-003aba70ddc0"
   },
   "outputs": [
    {
     "data": {
      "image/png": "[encoded data removed]",
      "text/plain": [
       "<Figure size 432x288 with 1 Axes>"
      ]
     },
     "metadata": {
      "needs_background": "light"
     },
     "output_type": "display_data"
    },
    {
     "data": {
      "image/png": "[encoded data removed]",
      "text/plain": [
       "<Figure size 432x288 with 1 Axes>"
      ]
     },
     "metadata": {
      "needs_background": "light"
     },
     "output_type": "display_data"
    },
    {
     "data": {
      "image/png": "[encoded data removed]",
      "text/plain": [
       "<Figure size 432x288 with 1 Axes>"
      ]
     },
     "metadata": {
      "needs_background": "light"
     },
     "output_type": "display_data"
    },
    {
     "data": {
      "image/png": "[encoded data removed]",
      "text/plain": [
       "<Figure size 432x288 with 1 Axes>"
      ]
     },
     "metadata": {
      "needs_background": "light"
     },
     "output_type": "display_data"
    }
   ],
   "source": [
    "# Exibindo dados de Precisão\n",
    "plt.plot(history.history['precision_score'])\n",
    "plt.plot(history.history['val_precision_score'])\n",
    "plt.title('model precision')\n",
    "plt.ylabel('precision')\n",
    "plt.xlabel('epoch')\n",
    "plt.legend(['train', 'test'], loc='upper left')\n",
    "plt.show()\n",
    "\n",
    "# Exibindo dados de Sensibilidade\n",
    "plt.plot(history.history['recall_score'])\n",
    "plt.plot(history.history['val_recall_score'])\n",
    "plt.title('model recall')\n",
    "plt.ylabel('recall')\n",
    "plt.xlabel('epoch')\n",
    "plt.legend(['train', 'test'], loc='upper left')\n",
    "plt.show()\n",
    "\n",
    "# Exibindo dados de F1 Score\n",
    "plt.plot(history.history['f1_score'])\n",
    "plt.plot(history.history['val_f1_score'])\n",
    "plt.title('model f1_score')\n",
    "plt.ylabel('f1_score')\n",
    "plt.xlabel('epoch')\n",
    "plt.legend(['train', 'test'], loc='upper left')\n",
    "plt.show()\n",
    "\n",
    "# Exibindo dados de Perda\n",
    "plt.plot(history.history['loss'])\n",
    "plt.plot(history.history['val_loss'])\n",
    "plt.title('model loss')\n",
    "plt.ylabel('loss')\n",
    "plt.xlabel('epoch')\n",
    "plt.legend(['train', 'test'], loc='upper left')\n",
    "plt.show()"
   ]
  },
  {
   "cell_type": "markdown",
   "metadata": {
    "id": "q6r40DuxAx9_"
   },
   "source": [
    "**Pergunta**: Avalie os gráficos de perda (*loss*), precisão (*precision*), sensibilidade (*recall*) e pontuação f1 (*f1 score*)  e explique o comportamento de ambos no que tange a convergência do modelo."
   ]
  },
  {
   "cell_type": "markdown",
   "metadata": {
    "id": "eUMxArP0Ax9_"
   },
   "source": [
    "**Resposta**: O gráfico de ..."
   ]
  },
  {
   "cell_type": "markdown",
   "metadata": {
    "id": "Ocisl01CAx-A"
   },
   "source": [
    "**Pergunta**: Quais são os valores de **precisão (precision)**, **sensibilidade (recall)** de validação? \n",
    "\n",
    "*Estes valores são exibidos durante o treinamento, utilize a última saída, exemplo:*\n",
    "\n",
    "```\n",
    "Epoch 10/10 [==============================] - 45s 9s/step - loss: 0.1234 - precision_score: 0.9742 - recall_score: 0.9683 - f1_score: 0.9712 - val_loss: 0.8819 - val_precision_score: 0.6912 - val_recall_score: 0.5649 - val_f1_score: 0.6216```\n",
    "\n",
    "No caso acima, o valor de precisão, sensibilidade e pontuação de validação são, respectivamente, 69,12%, 56,49% e 62,16%."
   ]
  },
  {
   "cell_type": "markdown",
   "metadata": {
    "id": "wa7mVP9sAx-A"
   },
   "source": [
    "**Resposta**: Precisão: 71,91%, sensibilidade: 68,75%, f1-score: 70,28%."
   ]
  },
  {
   "cell_type": "markdown",
   "metadata": {
    "id": "adteAxndAx-A"
   },
   "source": [
    "## 4.6 Compartivo de arquiteturas\n",
    "\n",
    "Preencha a tabela abaixo com os valores dos indicadores de performance apresentados.\n",
    "\n",
    "_O cálculo do F1-Score é dado por 2 * (Precisão * Sensibilidade) / (Precisão + Sensibilidade)._"
   ]
  },
  {
   "cell_type": "markdown",
   "metadata": {
    "id": "3BQZoI6aAx-B"
   },
   "source": [
    "| Modelo   | Precisão (*Precision*) | Sensibilidade (*Recall*) | F1-Score |\n",
    "|----------|----------|---------------|----------|\n",
    "| ResNet50 | 82,17 %     | 80,00 %          | 81,05 %     |\n",
    "| VGG16    | 72,38 %     | 69,38 %          | 70,84 %     |\n",
    "| VGG19    | 71,91 %     | 68,75 %          | 70,28 %     |"
   ]
  },
  {
   "cell_type": "markdown",
   "metadata": {
    "id": "IJJwaLoYAx-B"
   },
   "source": [
    "## 4.7 Conclusões\n",
    "\n",
    "Analise os resultados da tabela de indicadores do comparativo de arquiteturas e explique os principais motivos pelos quais cada modelo obteve cada resultado."
   ]
  },
  {
   "cell_type": "markdown",
   "metadata": {
    "id": "nXUQIj9RAx-C"
   },
   "source": [
    "**Respota**: O melhor f1-score foi obtido pela arquitetura ResNet50, que com a pequena quantidade de épocas, conseguiu convergir.\n",
    "\n",
    "Apesar dassa pouca quantidade de épocas para uma arquitetura tão complexa, o VGG16 poderiam melhorar caso mais épocas fossem adicionadas, uma vez que os indicardores informavam que o modelo continuava convergindo.\n",
    "\n",
    "O modelo VGG19 apresentou resultados finais bem equilibrados, tendo taxas de falso negativo e falsos positivos harmônicos."
   ]
  },
  {
   "cell_type": "markdown",
   "metadata": {
    "id": "9f7FaDU6Ax-C"
   },
   "source": [
    "## 4.8 Abordagem adicional (obrigatório)\n",
    "\n",
    "Considerando os outros classificadores, escolha outro que ainda não foi utilizado, implemente abaixo. Ao final compare os resultados e explique os resultados.\n",
    "\n",
    "_Não se esquece de utilizar as importações adequadas para cada modelo.\n",
    "A forma de implementação deve respeitar as mesmas condições como valor de split e quantidade de imagens para poder comparar os modelos._"
   ]
  },
  {
   "cell_type": "code",
   "execution_count": 27,
   "metadata": {
    "colab": {
     "base_uri": "https://localhost:8080/"
    },
    "id": "8U0rgnde_Dnq",
    "outputId": "79acb54d-fb71-410d-c1fe-b4464cb51c8a"
   },
   "outputs": [
    {
     "name": "stdout",
     "output_type": "stream",
     "text": [
      "WARNING:tensorflow:`input_shape` is undefined or non-square, or `rows` is not in [96, 128, 160, 192, 224]. Weights for input shape (224, 224) will be loaded as the default.\n"
     ]
    }
   ],
   "source": [
    "#IMPLEMENTE\n",
    "# MobileNetV2\n",
    "\n",
    "from tensorflow.keras.applications import MobileNetV2\n",
    "conv_base = MobileNetV2(include_top=False)\n",
    "\n",
    "for layer in conv_base.layers:\n",
    "    layer.trainable = False"
   ]
  },
  {
   "cell_type": "code",
   "execution_count": 28,
   "metadata": {
    "colab": {
     "base_uri": "https://localhost:8080/"
    },
    "id": "cYAfUBb9_EcZ",
    "outputId": "5f1e42a1-0c56-436d-e130-f1ddb491bcf4"
   },
   "outputs": [
    {
     "name": "stdout",
     "output_type": "stream",
     "text": [
      "Model: \"model_3\"\n",
      "__________________________________________________________________________________________________\n",
      " Layer (type)                   Output Shape         Param #     Connected to                     \n",
      "==================================================================================================\n",
      " input_4 (InputLayer)           [(None, None, None,  0           []                               \n",
      "                                 3)]                                                              \n",
      "                                                                                                  \n",
      " Conv1 (Conv2D)                 (None, None, None,   864         ['input_4[0][0]']                \n",
      "                                32)                                                               \n",
      "                                                                                                  \n",
      " bn_Conv1 (BatchNormalization)  (None, None, None,   128         ['Conv1[0][0]']                  \n",
      "                                32)                                                               \n",
      "                                                                                                  \n",
      " Conv1_relu (ReLU)              (None, None, None,   0           ['bn_Conv1[0][0]']               \n",
      "                                32)                                                               \n",
      "                                                                                                  \n",
      " expanded_conv_depthwise (Depth  (None, None, None,   288        ['Conv1_relu[0][0]']             \n",
      " wiseConv2D)                    32)                                                               \n",
      "                                                                                                  \n",
      " expanded_conv_depthwise_BN (Ba  (None, None, None,   128        ['expanded_conv_depthwise[0][0]']\n",
      " tchNormalization)              32)                                                               \n",
      "                                                                                                  \n",
      " expanded_conv_depthwise_relu (  (None, None, None,   0          ['expanded_conv_depthwise_BN[0][0\n",
      " ReLU)                          32)                              ]']                              \n",
      "                                                                                                  \n",
      " expanded_conv_project (Conv2D)  (None, None, None,   512        ['expanded_conv_depthwise_relu[0]\n",
      "                                16)                              [0]']                            \n",
      "                                                                                                  \n",
      " expanded_conv_project_BN (Batc  (None, None, None,   64         ['expanded_conv_project[0][0]']  \n",
      " hNormalization)                16)                                                               \n",
      "                                                                                                  \n",
      " block_1_expand (Conv2D)        (None, None, None,   1536        ['expanded_conv_project_BN[0][0]'\n",
      "                                96)                              ]                                \n",
      "                                                                                                  \n",
      " block_1_expand_BN (BatchNormal  (None, None, None,   384        ['block_1_expand[0][0]']         \n",
      " ization)                       96)                                                               \n",
      "                                                                                                  \n",
      " block_1_expand_relu (ReLU)     (None, None, None,   0           ['block_1_expand_BN[0][0]']      \n",
      "                                96)                                                               \n",
      "                                                                                                  \n",
      " block_1_pad (ZeroPadding2D)    (None, None, None,   0           ['block_1_expand_relu[0][0]']    \n",
      "                                96)                                                               \n",
      "                                                                                                  \n",
      " block_1_depthwise (DepthwiseCo  (None, None, None,   864        ['block_1_pad[0][0]']            \n",
      " nv2D)                          96)                                                               \n",
      "                                                                                                  \n",
      " block_1_depthwise_BN (BatchNor  (None, None, None,   384        ['block_1_depthwise[0][0]']      \n",
      " malization)                    96)                                                               \n",
      "                                                                                                  \n",
      " block_1_depthwise_relu (ReLU)  (None, None, None,   0           ['block_1_depthwise_BN[0][0]']   \n",
      "                                96)                                                               \n",
      "                                                                                                  \n",
      " block_1_project (Conv2D)       (None, None, None,   2304        ['block_1_depthwise_relu[0][0]'] \n",
      "                                24)                                                               \n",
      "                                                                                                  \n",
      " block_1_project_BN (BatchNorma  (None, None, None,   96         ['block_1_project[0][0]']        \n",
      " lization)                      24)                                                               \n",
      "                                                                                                  \n",
      " block_2_expand (Conv2D)        (None, None, None,   3456        ['block_1_project_BN[0][0]']     \n",
      "                                144)                                                              \n",
      "                                                                                                  \n",
      " block_2_expand_BN (BatchNormal  (None, None, None,   576        ['block_2_expand[0][0]']         \n",
      " ization)                       144)                                                              \n",
      "                                                                                                  \n",
      " block_2_expand_relu (ReLU)     (None, None, None,   0           ['block_2_expand_BN[0][0]']      \n",
      "                                144)                                                              \n",
      "                                                                                                  \n",
      " block_2_depthwise (DepthwiseCo  (None, None, None,   1296       ['block_2_expand_relu[0][0]']    \n",
      " nv2D)                          144)                                                              \n",
      "                                                                                                  \n",
      " block_2_depthwise_BN (BatchNor  (None, None, None,   576        ['block_2_depthwise[0][0]']      \n",
      " malization)                    144)                                                              \n",
      "                                                                                                  \n",
      " block_2_depthwise_relu (ReLU)  (None, None, None,   0           ['block_2_depthwise_BN[0][0]']   \n",
      "                                144)                                                              \n",
      "                                                                                                  \n",
      " block_2_project (Conv2D)       (None, None, None,   3456        ['block_2_depthwise_relu[0][0]'] \n",
      "                                24)                                                               \n",
      "                                                                                                  \n",
      " block_2_project_BN (BatchNorma  (None, None, None,   96         ['block_2_project[0][0]']        \n",
      " lization)                      24)                                                               \n",
      "                                                                                                  \n",
      " block_2_add (Add)              (None, None, None,   0           ['block_1_project_BN[0][0]',     \n",
      "                                24)                               'block_2_project_BN[0][0]']     \n",
      "                                                                                                  \n",
      " block_3_expand (Conv2D)        (None, None, None,   3456        ['block_2_add[0][0]']            \n",
      "                                144)                                                              \n",
      "                                                                                                  \n",
      " block_3_expand_BN (BatchNormal  (None, None, None,   576        ['block_3_expand[0][0]']         \n",
      " ization)                       144)                                                              \n",
      "                                                                                                  \n",
      " block_3_expand_relu (ReLU)     (None, None, None,   0           ['block_3_expand_BN[0][0]']      \n",
      "                                144)                                                              \n",
      "                                                                                                  \n",
      " block_3_pad (ZeroPadding2D)    (None, None, None,   0           ['block_3_expand_relu[0][0]']    \n",
      "                                144)                                                              \n",
      "                                                                                                  \n",
      " block_3_depthwise (DepthwiseCo  (None, None, None,   1296       ['block_3_pad[0][0]']            \n",
      " nv2D)                          144)                                                              \n",
      "                                                                                                  \n",
      " block_3_depthwise_BN (BatchNor  (None, None, None,   576        ['block_3_depthwise[0][0]']      \n",
      " malization)                    144)                                                              \n",
      "                                                                                                  \n",
      " block_3_depthwise_relu (ReLU)  (None, None, None,   0           ['block_3_depthwise_BN[0][0]']   \n",
      "                                144)                                                              \n",
      "                                                                                                  \n",
      " block_3_project (Conv2D)       (None, None, None,   4608        ['block_3_depthwise_relu[0][0]'] \n",
      "                                32)                                                               \n",
      "                                                                                                  \n",
      " block_3_project_BN (BatchNorma  (None, None, None,   128        ['block_3_project[0][0]']        \n",
      " lization)                      32)                                                               \n",
      "                                                                                                  \n",
      " block_4_expand (Conv2D)        (None, None, None,   6144        ['block_3_project_BN[0][0]']     \n",
      "                                192)                                                              \n",
      "                                                                                                  \n",
      " block_4_expand_BN (BatchNormal  (None, None, None,   768        ['block_4_expand[0][0]']         \n",
      " ization)                       192)                                                              \n",
      "                                                                                                  \n",
      " block_4_expand_relu (ReLU)     (None, None, None,   0           ['block_4_expand_BN[0][0]']      \n",
      "                                192)                                                              \n",
      "                                                                                                  \n",
      " block_4_depthwise (DepthwiseCo  (None, None, None,   1728       ['block_4_expand_relu[0][0]']    \n",
      " nv2D)                          192)                                                              \n",
      "                                                                                                  \n",
      " block_4_depthwise_BN (BatchNor  (None, None, None,   768        ['block_4_depthwise[0][0]']      \n",
      " malization)                    192)                                                              \n",
      "                                                                                                  \n",
      " block_4_depthwise_relu (ReLU)  (None, None, None,   0           ['block_4_depthwise_BN[0][0]']   \n",
      "                                192)                                                              \n",
      "                                                                                                  \n",
      " block_4_project (Conv2D)       (None, None, None,   6144        ['block_4_depthwise_relu[0][0]'] \n",
      "                                32)                                                               \n",
      "                                                                                                  \n",
      " block_4_project_BN (BatchNorma  (None, None, None,   128        ['block_4_project[0][0]']        \n",
      " lization)                      32)                                                               \n",
      "                                                                                                  \n",
      " block_4_add (Add)              (None, None, None,   0           ['block_3_project_BN[0][0]',     \n",
      "                                32)                               'block_4_project_BN[0][0]']     \n",
      "                                                                                                  \n",
      " block_5_expand (Conv2D)        (None, None, None,   6144        ['block_4_add[0][0]']            \n",
      "                                192)                                                              \n",
      "                                                                                                  \n",
      " block_5_expand_BN (BatchNormal  (None, None, None,   768        ['block_5_expand[0][0]']         \n",
      " ization)                       192)                                                              \n",
      "                                                                                                  \n",
      " block_5_expand_relu (ReLU)     (None, None, None,   0           ['block_5_expand_BN[0][0]']      \n",
      "                                192)                                                              \n",
      "                                                                                                  \n",
      " block_5_depthwise (DepthwiseCo  (None, None, None,   1728       ['block_5_expand_relu[0][0]']    \n",
      " nv2D)                          192)                                                              \n",
      "                                                                                                  \n",
      " block_5_depthwise_BN (BatchNor  (None, None, None,   768        ['block_5_depthwise[0][0]']      \n",
      " malization)                    192)                                                              \n",
      "                                                                                                  \n",
      " block_5_depthwise_relu (ReLU)  (None, None, None,   0           ['block_5_depthwise_BN[0][0]']   \n",
      "                                192)                                                              \n",
      "                                                                                                  \n",
      " block_5_project (Conv2D)       (None, None, None,   6144        ['block_5_depthwise_relu[0][0]'] \n",
      "                                32)                                                               \n",
      "                                                                                                  \n",
      " block_5_project_BN (BatchNorma  (None, None, None,   128        ['block_5_project[0][0]']        \n",
      " lization)                      32)                                                               \n",
      "                                                                                                  \n",
      " block_5_add (Add)              (None, None, None,   0           ['block_4_add[0][0]',            \n",
      "                                32)                               'block_5_project_BN[0][0]']     \n",
      "                                                                                                  \n",
      " block_6_expand (Conv2D)        (None, None, None,   6144        ['block_5_add[0][0]']            \n",
      "                                192)                                                              \n",
      "                                                                                                  \n",
      " block_6_expand_BN (BatchNormal  (None, None, None,   768        ['block_6_expand[0][0]']         \n",
      " ization)                       192)                                                              \n",
      "                                                                                                  \n",
      " block_6_expand_relu (ReLU)     (None, None, None,   0           ['block_6_expand_BN[0][0]']      \n",
      "                                192)                                                              \n",
      "                                                                                                  \n",
      " block_6_pad (ZeroPadding2D)    (None, None, None,   0           ['block_6_expand_relu[0][0]']    \n",
      "                                192)                                                              \n",
      "                                                                                                  \n",
      " block_6_depthwise (DepthwiseCo  (None, None, None,   1728       ['block_6_pad[0][0]']            \n",
      " nv2D)                          192)                                                              \n",
      "                                                                                                  \n",
      " block_6_depthwise_BN (BatchNor  (None, None, None,   768        ['block_6_depthwise[0][0]']      \n",
      " malization)                    192)                                                              \n",
      "                                                                                                  \n",
      " block_6_depthwise_relu (ReLU)  (None, None, None,   0           ['block_6_depthwise_BN[0][0]']   \n",
      "                                192)                                                              \n",
      "                                                                                                  \n",
      " block_6_project (Conv2D)       (None, None, None,   12288       ['block_6_depthwise_relu[0][0]'] \n",
      "                                64)                                                               \n",
      "                                                                                                  \n",
      " block_6_project_BN (BatchNorma  (None, None, None,   256        ['block_6_project[0][0]']        \n",
      " lization)                      64)                                                               \n",
      "                                                                                                  \n",
      " block_7_expand (Conv2D)        (None, None, None,   24576       ['block_6_project_BN[0][0]']     \n",
      "                                384)                                                              \n",
      "                                                                                                  \n",
      " block_7_expand_BN (BatchNormal  (None, None, None,   1536       ['block_7_expand[0][0]']         \n",
      " ization)                       384)                                                              \n",
      "                                                                                                  \n",
      " block_7_expand_relu (ReLU)     (None, None, None,   0           ['block_7_expand_BN[0][0]']      \n",
      "                                384)                                                              \n",
      "                                                                                                  \n",
      " block_7_depthwise (DepthwiseCo  (None, None, None,   3456       ['block_7_expand_relu[0][0]']    \n",
      " nv2D)                          384)                                                              \n",
      "                                                                                                  \n",
      " block_7_depthwise_BN (BatchNor  (None, None, None,   1536       ['block_7_depthwise[0][0]']      \n",
      " malization)                    384)                                                              \n",
      "                                                                                                  \n",
      " block_7_depthwise_relu (ReLU)  (None, None, None,   0           ['block_7_depthwise_BN[0][0]']   \n",
      "                                384)                                                              \n",
      "                                                                                                  \n",
      " block_7_project (Conv2D)       (None, None, None,   24576       ['block_7_depthwise_relu[0][0]'] \n",
      "                                64)                                                               \n",
      "                                                                                                  \n",
      " block_7_project_BN (BatchNorma  (None, None, None,   256        ['block_7_project[0][0]']        \n",
      " lization)                      64)                                                               \n",
      "                                                                                                  \n",
      " block_7_add (Add)              (None, None, None,   0           ['block_6_project_BN[0][0]',     \n",
      "                                64)                               'block_7_project_BN[0][0]']     \n",
      "                                                                                                  \n",
      " block_8_expand (Conv2D)        (None, None, None,   24576       ['block_7_add[0][0]']            \n",
      "                                384)                                                              \n",
      "                                                                                                  \n",
      " block_8_expand_BN (BatchNormal  (None, None, None,   1536       ['block_8_expand[0][0]']         \n",
      " ization)                       384)                                                              \n",
      "                                                                                                  \n",
      " block_8_expand_relu (ReLU)     (None, None, None,   0           ['block_8_expand_BN[0][0]']      \n",
      "                                384)                                                              \n",
      "                                                                                                  \n",
      " block_8_depthwise (DepthwiseCo  (None, None, None,   3456       ['block_8_expand_relu[0][0]']    \n",
      " nv2D)                          384)                                                              \n",
      "                                                                                                  \n",
      " block_8_depthwise_BN (BatchNor  (None, None, None,   1536       ['block_8_depthwise[0][0]']      \n",
      " malization)                    384)                                                              \n",
      "                                                                                                  \n",
      " block_8_depthwise_relu (ReLU)  (None, None, None,   0           ['block_8_depthwise_BN[0][0]']   \n",
      "                                384)                                                              \n",
      "                                                                                                  \n",
      " block_8_project (Conv2D)       (None, None, None,   24576       ['block_8_depthwise_relu[0][0]'] \n",
      "                                64)                                                               \n",
      "                                                                                                  \n",
      " block_8_project_BN (BatchNorma  (None, None, None,   256        ['block_8_project[0][0]']        \n",
      " lization)                      64)                                                               \n",
      "                                                                                                  \n",
      " block_8_add (Add)              (None, None, None,   0           ['block_7_add[0][0]',            \n",
      "                                64)                               'block_8_project_BN[0][0]']     \n",
      "                                                                                                  \n",
      " block_9_expand (Conv2D)        (None, None, None,   24576       ['block_8_add[0][0]']            \n",
      "                                384)                                                              \n",
      "                                                                                                  \n",
      " block_9_expand_BN (BatchNormal  (None, None, None,   1536       ['block_9_expand[0][0]']         \n",
      " ization)                       384)                                                              \n",
      "                                                                                                  \n",
      " block_9_expand_relu (ReLU)     (None, None, None,   0           ['block_9_expand_BN[0][0]']      \n",
      "                                384)                                                              \n",
      "                                                                                                  \n",
      " block_9_depthwise (DepthwiseCo  (None, None, None,   3456       ['block_9_expand_relu[0][0]']    \n",
      " nv2D)                          384)                                                              \n",
      "                                                                                                  \n",
      " block_9_depthwise_BN (BatchNor  (None, None, None,   1536       ['block_9_depthwise[0][0]']      \n",
      " malization)                    384)                                                              \n",
      "                                                                                                  \n",
      " block_9_depthwise_relu (ReLU)  (None, None, None,   0           ['block_9_depthwise_BN[0][0]']   \n",
      "                                384)                                                              \n",
      "                                                                                                  \n",
      " block_9_project (Conv2D)       (None, None, None,   24576       ['block_9_depthwise_relu[0][0]'] \n",
      "                                64)                                                               \n",
      "                                                                                                  \n",
      " block_9_project_BN (BatchNorma  (None, None, None,   256        ['block_9_project[0][0]']        \n",
      " lization)                      64)                                                               \n",
      "                                                                                                  \n",
      " block_9_add (Add)              (None, None, None,   0           ['block_8_add[0][0]',            \n",
      "                                64)                               'block_9_project_BN[0][0]']     \n",
      "                                                                                                  \n",
      " block_10_expand (Conv2D)       (None, None, None,   24576       ['block_9_add[0][0]']            \n",
      "                                384)                                                              \n",
      "                                                                                                  \n",
      " block_10_expand_BN (BatchNorma  (None, None, None,   1536       ['block_10_expand[0][0]']        \n",
      " lization)                      384)                                                              \n",
      "                                                                                                  \n",
      " block_10_expand_relu (ReLU)    (None, None, None,   0           ['block_10_expand_BN[0][0]']     \n",
      "                                384)                                                              \n",
      "                                                                                                  \n",
      " block_10_depthwise (DepthwiseC  (None, None, None,   3456       ['block_10_expand_relu[0][0]']   \n",
      " onv2D)                         384)                                                              \n",
      "                                                                                                  \n",
      " block_10_depthwise_BN (BatchNo  (None, None, None,   1536       ['block_10_depthwise[0][0]']     \n",
      " rmalization)                   384)                                                              \n",
      "                                                                                                  \n",
      " block_10_depthwise_relu (ReLU)  (None, None, None,   0          ['block_10_depthwise_BN[0][0]']  \n",
      "                                384)                                                              \n",
      "                                                                                                  \n",
      " block_10_project (Conv2D)      (None, None, None,   36864       ['block_10_depthwise_relu[0][0]']\n",
      "                                96)                                                               \n",
      "                                                                                                  \n",
      " block_10_project_BN (BatchNorm  (None, None, None,   384        ['block_10_project[0][0]']       \n",
      " alization)                     96)                                                               \n",
      "                                                                                                  \n",
      " block_11_expand (Conv2D)       (None, None, None,   55296       ['block_10_project_BN[0][0]']    \n",
      "                                576)                                                              \n",
      "                                                                                                  \n",
      " block_11_expand_BN (BatchNorma  (None, None, None,   2304       ['block_11_expand[0][0]']        \n",
      " lization)                      576)                                                              \n",
      "                                                                                                  \n",
      " block_11_expand_relu (ReLU)    (None, None, None,   0           ['block_11_expand_BN[0][0]']     \n",
      "                                576)                                                              \n",
      "                                                                                                  \n",
      " block_11_depthwise (DepthwiseC  (None, None, None,   5184       ['block_11_expand_relu[0][0]']   \n",
      " onv2D)                         576)                                                              \n",
      "                                                                                                  \n",
      " block_11_depthwise_BN (BatchNo  (None, None, None,   2304       ['block_11_depthwise[0][0]']     \n",
      " rmalization)                   576)                                                              \n",
      "                                                                                                  \n",
      " block_11_depthwise_relu (ReLU)  (None, None, None,   0          ['block_11_depthwise_BN[0][0]']  \n",
      "                                576)                                                              \n",
      "                                                                                                  \n",
      " block_11_project (Conv2D)      (None, None, None,   55296       ['block_11_depthwise_relu[0][0]']\n",
      "                                96)                                                               \n",
      "                                                                                                  \n",
      " block_11_project_BN (BatchNorm  (None, None, None,   384        ['block_11_project[0][0]']       \n",
      " alization)                     96)                                                               \n",
      "                                                                                                  \n",
      " block_11_add (Add)             (None, None, None,   0           ['block_10_project_BN[0][0]',    \n",
      "                                96)                               'block_11_project_BN[0][0]']    \n",
      "                                                                                                  \n",
      " block_12_expand (Conv2D)       (None, None, None,   55296       ['block_11_add[0][0]']           \n",
      "                                576)                                                              \n",
      "                                                                                                  \n",
      " block_12_expand_BN (BatchNorma  (None, None, None,   2304       ['block_12_expand[0][0]']        \n",
      " lization)                      576)                                                              \n",
      "                                                                                                  \n",
      " block_12_expand_relu (ReLU)    (None, None, None,   0           ['block_12_expand_BN[0][0]']     \n",
      "                                576)                                                              \n",
      "                                                                                                  \n",
      " block_12_depthwise (DepthwiseC  (None, None, None,   5184       ['block_12_expand_relu[0][0]']   \n",
      " onv2D)                         576)                                                              \n",
      "                                                                                                  \n",
      " block_12_depthwise_BN (BatchNo  (None, None, None,   2304       ['block_12_depthwise[0][0]']     \n",
      " rmalization)                   576)                                                              \n",
      "                                                                                                  \n",
      " block_12_depthwise_relu (ReLU)  (None, None, None,   0          ['block_12_depthwise_BN[0][0]']  \n",
      "                                576)                                                              \n",
      "                                                                                                  \n",
      " block_12_project (Conv2D)      (None, None, None,   55296       ['block_12_depthwise_relu[0][0]']\n",
      "                                96)                                                               \n",
      "                                                                                                  \n",
      " block_12_project_BN (BatchNorm  (None, None, None,   384        ['block_12_project[0][0]']       \n",
      " alization)                     96)                                                               \n",
      "                                                                                                  \n",
      " block_12_add (Add)             (None, None, None,   0           ['block_11_add[0][0]',           \n",
      "                                96)                               'block_12_project_BN[0][0]']    \n",
      "                                                                                                  \n",
      " block_13_expand (Conv2D)       (None, None, None,   55296       ['block_12_add[0][0]']           \n",
      "                                576)                                                              \n",
      "                                                                                                  \n",
      " block_13_expand_BN (BatchNorma  (None, None, None,   2304       ['block_13_expand[0][0]']        \n",
      " lization)                      576)                                                              \n",
      "                                                                                                  \n",
      " block_13_expand_relu (ReLU)    (None, None, None,   0           ['block_13_expand_BN[0][0]']     \n",
      "                                576)                                                              \n",
      "                                                                                                  \n",
      " block_13_pad (ZeroPadding2D)   (None, None, None,   0           ['block_13_expand_relu[0][0]']   \n",
      "                                576)                                                              \n",
      "                                                                                                  \n",
      " block_13_depthwise (DepthwiseC  (None, None, None,   5184       ['block_13_pad[0][0]']           \n",
      " onv2D)                         576)                                                              \n",
      "                                                                                                  \n",
      " block_13_depthwise_BN (BatchNo  (None, None, None,   2304       ['block_13_depthwise[0][0]']     \n",
      " rmalization)                   576)                                                              \n",
      "                                                                                                  \n",
      " block_13_depthwise_relu (ReLU)  (None, None, None,   0          ['block_13_depthwise_BN[0][0]']  \n",
      "                                576)                                                              \n",
      "                                                                                                  \n",
      " block_13_project (Conv2D)      (None, None, None,   92160       ['block_13_depthwise_relu[0][0]']\n",
      "                                160)                                                              \n",
      "                                                                                                  \n",
      " block_13_project_BN (BatchNorm  (None, None, None,   640        ['block_13_project[0][0]']       \n",
      " alization)                     160)                                                              \n",
      "                                                                                                  \n",
      " block_14_expand (Conv2D)       (None, None, None,   153600      ['block_13_project_BN[0][0]']    \n",
      "                                960)                                                              \n",
      "                                                                                                  \n",
      " block_14_expand_BN (BatchNorma  (None, None, None,   3840       ['block_14_expand[0][0]']        \n",
      " lization)                      960)                                                              \n",
      "                                                                                                  \n",
      " block_14_expand_relu (ReLU)    (None, None, None,   0           ['block_14_expand_BN[0][0]']     \n",
      "                                960)                                                              \n",
      "                                                                                                  \n",
      " block_14_depthwise (DepthwiseC  (None, None, None,   8640       ['block_14_expand_relu[0][0]']   \n",
      " onv2D)                         960)                                                              \n",
      "                                                                                                  \n",
      " block_14_depthwise_BN (BatchNo  (None, None, None,   3840       ['block_14_depthwise[0][0]']     \n",
      " rmalization)                   960)                                                              \n",
      "                                                                                                  \n",
      " block_14_depthwise_relu (ReLU)  (None, None, None,   0          ['block_14_depthwise_BN[0][0]']  \n",
      "                                960)                                                              \n",
      "                                                                                                  \n",
      " block_14_project (Conv2D)      (None, None, None,   153600      ['block_14_depthwise_relu[0][0]']\n",
      "                                160)                                                              \n",
      "                                                                                                  \n",
      " block_14_project_BN (BatchNorm  (None, None, None,   640        ['block_14_project[0][0]']       \n",
      " alization)                     160)                                                              \n",
      "                                                                                                  \n",
      " block_14_add (Add)             (None, None, None,   0           ['block_13_project_BN[0][0]',    \n",
      "                                160)                              'block_14_project_BN[0][0]']    \n",
      "                                                                                                  \n",
      " block_15_expand (Conv2D)       (None, None, None,   153600      ['block_14_add[0][0]']           \n",
      "                                960)                                                              \n",
      "                                                                                                  \n",
      " block_15_expand_BN (BatchNorma  (None, None, None,   3840       ['block_15_expand[0][0]']        \n",
      " lization)                      960)                                                              \n",
      "                                                                                                  \n",
      " block_15_expand_relu (ReLU)    (None, None, None,   0           ['block_15_expand_BN[0][0]']     \n",
      "                                960)                                                              \n",
      "                                                                                                  \n",
      " block_15_depthwise (DepthwiseC  (None, None, None,   8640       ['block_15_expand_relu[0][0]']   \n",
      " onv2D)                         960)                                                              \n",
      "                                                                                                  \n",
      " block_15_depthwise_BN (BatchNo  (None, None, None,   3840       ['block_15_depthwise[0][0]']     \n",
      " rmalization)                   960)                                                              \n",
      "                                                                                                  \n",
      " block_15_depthwise_relu (ReLU)  (None, None, None,   0          ['block_15_depthwise_BN[0][0]']  \n",
      "                                960)                                                              \n",
      "                                                                                                  \n",
      " block_15_project (Conv2D)      (None, None, None,   153600      ['block_15_depthwise_relu[0][0]']\n",
      "                                160)                                                              \n",
      "                                                                                                  \n",
      " block_15_project_BN (BatchNorm  (None, None, None,   640        ['block_15_project[0][0]']       \n",
      " alization)                     160)                                                              \n",
      "                                                                                                  \n",
      " block_15_add (Add)             (None, None, None,   0           ['block_14_add[0][0]',           \n",
      "                                160)                              'block_15_project_BN[0][0]']    \n",
      "                                                                                                  \n",
      " block_16_expand (Conv2D)       (None, None, None,   153600      ['block_15_add[0][0]']           \n",
      "                                960)                                                              \n",
      "                                                                                                  \n",
      " block_16_expand_BN (BatchNorma  (None, None, None,   3840       ['block_16_expand[0][0]']        \n",
      " lization)                      960)                                                              \n",
      "                                                                                                  \n",
      " block_16_expand_relu (ReLU)    (None, None, None,   0           ['block_16_expand_BN[0][0]']     \n",
      "                                960)                                                              \n",
      "                                                                                                  \n",
      " block_16_depthwise (DepthwiseC  (None, None, None,   8640       ['block_16_expand_relu[0][0]']   \n",
      " onv2D)                         960)                                                              \n",
      "                                                                                                  \n",
      " block_16_depthwise_BN (BatchNo  (None, None, None,   3840       ['block_16_depthwise[0][0]']     \n",
      " rmalization)                   960)                                                              \n",
      "                                                                                                  \n",
      " block_16_depthwise_relu (ReLU)  (None, None, None,   0          ['block_16_depthwise_BN[0][0]']  \n",
      "                                960)                                                              \n",
      "                                                                                                  \n",
      " block_16_project (Conv2D)      (None, None, None,   307200      ['block_16_depthwise_relu[0][0]']\n",
      "                                320)                                                              \n",
      "                                                                                                  \n",
      " block_16_project_BN (BatchNorm  (None, None, None,   1280       ['block_16_project[0][0]']       \n",
      " alization)                     320)                                                              \n",
      "                                                                                                  \n",
      " Conv_1 (Conv2D)                (None, None, None,   409600      ['block_16_project_BN[0][0]']    \n",
      "                                1280)                                                             \n",
      "                                                                                                  \n",
      " Conv_1_bn (BatchNormalization)  (None, None, None,   5120       ['Conv_1[0][0]']                 \n",
      "                                1280)                                                             \n",
      "                                                                                                  \n",
      " out_relu (ReLU)                (None, None, None,   0           ['Conv_1_bn[0][0]']              \n",
      "                                1280)                                                             \n",
      "                                                                                                  \n",
      " global_average_pooling2d_3 (Gl  (None, 1280)        0           ['out_relu[0][0]']               \n",
      " obalAveragePooling2D)                                                                            \n",
      "                                                                                                  \n",
      " dense_6 (Dense)                (None, 128)          163968      ['global_average_pooling2d_3[0][0\n",
      "                                                                 ]']                              \n",
      "                                                                                                  \n",
      " dense_7 (Dense)                (None, 3)            387         ['dense_6[0][0]']                \n",
      "                                                                                                  \n",
      "==================================================================================================\n",
      "Total params: 2,422,339\n",
      "Trainable params: 164,355\n",
      "Non-trainable params: 2,257,984\n",
      "__________________________________________________________________________________________________\n"
     ]
    }
   ],
   "source": [
    "x = conv_base.output\n",
    "x = layers.GlobalAveragePooling2D()(x)\n",
    "x = layers.Dense(128, activation='relu')(x) \n",
    "\n",
    "predictions = layers.Dense(qtde_classes, activation='softmax')(x)\n",
    "model = Model(conv_base.input, predictions)\n",
    "\n",
    "model.summary()"
   ]
  },
  {
   "cell_type": "code",
   "execution_count": 29,
   "metadata": {
    "id": "4U5KO-0r_HNa"
   },
   "outputs": [],
   "source": [
    "optimizer = optimizers.Adam()\n",
    "model.compile(loss='categorical_crossentropy', optimizer=optimizer, metrics=[precision_score, recall_score, f1_score])"
   ]
  },
  {
   "cell_type": "code",
   "execution_count": 30,
   "metadata": {
    "colab": {
     "base_uri": "https://localhost:8080/"
    },
    "id": "TXfE3ZgW_J8w",
    "outputId": "1c4a5b36-7339-4572-924c-ce6ca69e9479"
   },
   "outputs": [
    {
     "name": "stdout",
     "output_type": "stream",
     "text": [
      "Epoch 1/10\n",
      "5/5 [==============================] - 11s 2s/step - loss: 1.1086 - precision_score: 0.4633 - recall_score: 0.3725 - f1_score: 0.4090 - val_loss: 1.1667 - val_precision_score: 0.5128 - val_recall_score: 0.4437 - val_f1_score: 0.4757\n",
      "Epoch 2/10\n",
      "5/5 [==============================] - 5s 1s/step - loss: 1.0596 - precision_score: 0.5204 - recall_score: 0.4125 - f1_score: 0.4597 - val_loss: 0.9073 - val_precision_score: 0.6024 - val_recall_score: 0.4875 - val_f1_score: 0.5385\n",
      "Epoch 3/10\n",
      "5/5 [==============================] - 6s 1s/step - loss: 0.8904 - precision_score: 0.6003 - recall_score: 0.5063 - f1_score: 0.5483 - val_loss: 0.8376 - val_precision_score: 0.6951 - val_recall_score: 0.6125 - val_f1_score: 0.6511\n",
      "Epoch 4/10\n",
      "5/5 [==============================] - 6s 1s/step - loss: 0.7502 - precision_score: 0.7056 - recall_score: 0.6000 - f1_score: 0.6482 - val_loss: 0.6770 - val_precision_score: 0.6934 - val_recall_score: 0.6187 - val_f1_score: 0.6536\n",
      "Epoch 5/10\n",
      "5/5 [==============================] - 6s 1s/step - loss: 0.6997 - precision_score: 0.7581 - recall_score: 0.6375 - f1_score: 0.6916 - val_loss: 0.6793 - val_precision_score: 0.7551 - val_recall_score: 0.6750 - val_f1_score: 0.7126\n",
      "Epoch 6/10\n",
      "5/5 [==============================] - 6s 1s/step - loss: 0.6395 - precision_score: 0.7928 - recall_score: 0.6562 - f1_score: 0.7158 - val_loss: 0.7507 - val_precision_score: 0.7034 - val_recall_score: 0.6313 - val_f1_score: 0.6652\n",
      "Epoch 7/10\n",
      "5/5 [==============================] - 6s 1s/step - loss: 0.6439 - precision_score: 0.7754 - recall_score: 0.6812 - f1_score: 0.7243 - val_loss: 0.7308 - val_precision_score: 0.7127 - val_recall_score: 0.6687 - val_f1_score: 0.6898\n",
      "Epoch 8/10\n",
      "5/5 [==============================] - 6s 1s/step - loss: 0.6326 - precision_score: 0.7377 - recall_score: 0.7075 - f1_score: 0.7220 - val_loss: 0.7074 - val_precision_score: 0.6676 - val_recall_score: 0.6062 - val_f1_score: 0.6352\n",
      "Epoch 9/10\n",
      "5/5 [==============================] - 6s 1s/step - loss: 0.6785 - precision_score: 0.6537 - recall_score: 0.6213 - f1_score: 0.6368 - val_loss: 0.6878 - val_precision_score: 0.6741 - val_recall_score: 0.6375 - val_f1_score: 0.6551\n",
      "Epoch 10/10\n",
      "5/5 [==============================] - 6s 1s/step - loss: 0.6304 - precision_score: 0.7823 - recall_score: 0.7250 - f1_score: 0.7523 - val_loss: 0.8466 - val_precision_score: 0.6641 - val_recall_score: 0.6313 - val_f1_score: 0.6472\n"
     ]
    }
   ],
   "source": [
    "history = model.fit(train_generator, epochs=qtde_epocas, validation_steps=5, steps_per_epoch=5, \n",
    "                    validation_data=val_generator)"
   ]
  },
  {
   "cell_type": "code",
   "execution_count": 31,
   "metadata": {
    "colab": {
     "base_uri": "https://localhost:8080/",
     "height": 1000
    },
    "id": "0T1zac-l_Mvf",
    "outputId": "c770f9a3-a98a-4358-bbb0-11723d9ac1fa"
   },
   "outputs": [
    {
     "data": {
      "image/png": "[encoded data removed]",
      "text/plain": [
       "<Figure size 432x288 with 1 Axes>"
      ]
     },
     "metadata": {
      "needs_background": "light"
     },
     "output_type": "display_data"
    },
    {
     "data": {
      "image/png": "[encoded data removed]",
      "text/plain": [
       "<Figure size 432x288 with 1 Axes>"
      ]
     },
     "metadata": {
      "needs_background": "light"
     },
     "output_type": "display_data"
    },
    {
     "data": {
      "image/png": "[encoded data removed]",
      "text/plain": [
       "<Figure size 432x288 with 1 Axes>"
      ]
     },
     "metadata": {
      "needs_background": "light"
     },
     "output_type": "display_data"
    },
    {
     "data": {
      "image/png": "[encoded data removed]",
      "text/plain": [
       "<Figure size 432x288 with 1 Axes>"
      ]
     },
     "metadata": {
      "needs_background": "light"
     },
     "output_type": "display_data"
    }
   ],
   "source": [
    "# Exibindo dados de Precisão\n",
    "plt.plot(history.history['precision_score'])\n",
    "plt.plot(history.history['val_precision_score'])\n",
    "plt.title('model precision')\n",
    "plt.ylabel('precision')\n",
    "plt.xlabel('epoch')\n",
    "plt.legend(['train', 'test'], loc='upper left')\n",
    "plt.show()\n",
    "\n",
    "# Exibindo dados de Sensibilidade\n",
    "plt.plot(history.history['recall_score'])\n",
    "plt.plot(history.history['val_recall_score'])\n",
    "plt.title('model recall')\n",
    "plt.ylabel('recall')\n",
    "plt.xlabel('epoch')\n",
    "plt.legend(['train', 'test'], loc='upper left')\n",
    "plt.show()\n",
    "\n",
    "# Exibindo dados de F1 Score\n",
    "plt.plot(history.history['f1_score'])\n",
    "plt.plot(history.history['val_f1_score'])\n",
    "plt.title('model f1_score')\n",
    "plt.ylabel('f1_score')\n",
    "plt.xlabel('epoch')\n",
    "plt.legend(['train', 'test'], loc='upper left')\n",
    "plt.show()\n",
    "\n",
    "# Exibindo dados de Perda\n",
    "plt.plot(history.history['loss'])\n",
    "plt.plot(history.history['val_loss'])\n",
    "plt.title('model loss')\n",
    "plt.ylabel('loss')\n",
    "plt.xlabel('epoch')\n",
    "plt.legend(['train', 'test'], loc='upper left')\n",
    "plt.show()"
   ]
  },
  {
   "cell_type": "markdown",
   "metadata": {
    "id": "0S5Z5mo8Ax-D"
   },
   "source": [
    "### 4.8.1 Conclusões sobre a abordagem adicional\n",
    "\n",
    "Como seu modelo performou em comparação com os demais modelos anteriores? Justifique sua resposta levando em consideração a arquitetura respectiva."
   ]
  },
  {
   "cell_type": "markdown",
   "metadata": {
    "id": "EiW3kbblAx-E"
   },
   "source": [
    "**Resposta**: MobileNetV2 é uma arquitetura de rede neural convolucional que busca um bom desempenho em dispositivos móveis. É baseado em uma estrutura residual invertida onde as conexões residuais estão entre as camadas de gargalo. A camada de expansão intermediária usa convoluções leves de profundidade para filtrar recursos como uma fonte de não linearidade. Como um todo, a arquitetura do MobileNetV2 contém a camada inicial totalmente de convolução com 32 filtros, seguida por 19 camadas de gargalo residuais.\n",
    "\n",
    "O MobileNetV2 não se mostrou tão equilibrado pois seu f1 score (64.72%) ficou abaixo dos obtidos pelo ResNet50, VGG16 e VGG119"
   ]
  }
 ],
 "metadata": {
  "accelerator": "GPU",
  "colab": {
   "collapsed_sections": [],
   "name": "analise-imagens-medicas-colab.ipynb",
   "provenance": []
  },
  "kernelspec": {
   "display_name": "Python 3 (ipykernel)",
   "language": "python",
   "name": "python3"
  },
  "language_info": {
   "codemirror_mode": {
    "name": "ipython",
    "version": 3
   },
   "file_extension": ".py",
   "mimetype": "text/x-python",
   "name": "python",
   "nbconvert_exporter": "python",
   "pygments_lexer": "ipython3",
   "version": "3.9.7"
  }
 },
 "nbformat": 4,
 "nbformat_minor": 1
}
